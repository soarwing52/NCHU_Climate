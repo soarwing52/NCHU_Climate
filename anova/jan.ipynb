{
 "cells": [
  {
   "cell_type": "code",
   "execution_count": 1,
   "metadata": {},
   "outputs": [],
   "source": [
    "import numpy as np\n",
    "import pandas as pd"
   ]
  },
  {
   "cell_type": "code",
   "execution_count": 3,
   "metadata": {},
   "outputs": [],
   "source": [
    "df_t = pd.read_csv('../final/joinedClimateJan.csv')\n",
    "df_avg_electricity = pd.read_csv('../avg_electricity/avg_electricity_jan.csv')"
   ]
  },
  {
   "cell_type": "code",
   "execution_count": 7,
   "metadata": {},
   "outputs": [],
   "source": [
    "df = pd.merge(df_t, df_avg_electricity, left_on=['TOWNNAME', 'VILLNAME'], right_on=['鄉鎮名稱', '村里名稱'],how='left')\n"
   ]
  },
  {
   "cell_type": "code",
   "execution_count": 12,
   "metadata": {},
   "outputs": [],
   "source": [
    "result_x = pd.DataFrame()\n",
    "result_y = pd.DataFrame()\n",
    "\n",
    "for i in range(11,15):\n",
    "    year = i\n",
    "    col_list = []\n",
    "    rename_dict = {f\"人均用電量_20{year}\":\"人均用電量\"}\n",
    "    x_col = []\n",
    "\n",
    "    for a in range(24):\n",
    "        col_list.append(f'T_{year}_{a}')\n",
    "        x_col.append(f'T_{a}')\n",
    "        rename_dict[f'T_{year}_{a}'] = f'T_{a}'\n",
    "\n",
    "    df_temp = df[[f\"人均用電量_20{year}\"] + col_list]\n",
    "    df_temp=df_temp.dropna(axis=0)\n",
    "    df_temp = df_temp.rename(columns=rename_dict)\n",
    "\n",
    "    df_x_temp = df_temp[x_col]\n",
    "\n",
    "    df_y_temp = df_temp[[\"人均用電量\"]]\n",
    "    result_x = pd.concat([result_x, df_x_temp],axis=0)\n",
    "    result_y = pd.concat([result_y, df_y_temp],axis=0)"
   ]
  },
  {
   "cell_type": "code",
   "execution_count": 35,
   "metadata": {},
   "outputs": [],
   "source": [
    "taipei_center = ['松山區','信義區','大安區','中山區','中正區']\n",
    "x = result_x\n",
    "y = result_y[\"人均用電量\"]"
   ]
  },
  {
   "cell_type": "code",
   "execution_count": 36,
   "metadata": {},
   "outputs": [],
   "source": [
    "arr_X = x.to_numpy()\n",
    "arr_y = y.to_numpy()"
   ]
  },
  {
   "cell_type": "code",
   "execution_count": 18,
   "metadata": {},
   "outputs": [],
   "source": [
    "import numpy as np\n",
    "from sklearn.linear_model import LinearRegression"
   ]
  },
  {
   "cell_type": "code",
   "execution_count": 37,
   "metadata": {},
   "outputs": [
    {
     "name": "stdout",
     "output_type": "stream",
     "text": [
      "[ -92.73167589   42.2154081  -126.13926283  -13.05033302  119.61680049\n",
      "  -98.50734164  134.00076765 -121.77185398  -29.74836473   37.21545672\n",
      "   26.02760591    5.8597355    48.7659078   -24.27105294   48.25052859\n",
      "  -63.77545183 -103.69868675  -92.06701804   87.4328067   131.05763607\n",
      " -150.40751343  -35.77304293  108.43313607   99.79684129]\n",
      "463.3435641702835\n"
     ]
    }
   ],
   "source": [
    "lm = LinearRegression()\n",
    "lm.fit(arr_X, arr_y)\n",
    "\n",
    "# 印出係數\n",
    "print(lm.coef_)\n",
    "\n",
    "# 印出截距\n",
    "print(lm.intercept_ )"
   ]
  },
  {
   "cell_type": "code",
   "execution_count": 38,
   "metadata": {},
   "outputs": [
    {
     "name": "stdout",
     "output_type": "stream",
     "text": [
      "14420.89973122507\n",
      "0.05714237417622037\n",
      "0.02280461542087786\n"
     ]
    }
   ],
   "source": [
    "# 模型績效\n",
    "mse = np.mean((lm.predict(arr_X) - arr_y) ** 2)\n",
    "r_squared = lm.score(arr_X, arr_y)\n",
    "adj_r_squared = r_squared - (1 - r_squared) * (arr_X.shape[1] / (arr_X.shape[0] - arr_X.shape[1] - 1))\n",
    "\n",
    "# 印出模型績效\n",
    "print(mse)\n",
    "print(r_squared)\n",
    "print(adj_r_squared)"
   ]
  },
  {
   "cell_type": "code",
   "execution_count": 24,
   "metadata": {},
   "outputs": [],
   "source": [
    "from sklearn.feature_selection import f_regression"
   ]
  },
  {
   "cell_type": "code",
   "execution_count": 41,
   "metadata": {},
   "outputs": [
    {
     "name": "stdout",
     "output_type": "stream",
     "text": [
      "[0.3336261  0.30313547 0.31855324 0.40037706 0.46733618 0.56096165\n",
      " 0.64018973 0.55675298 0.17538803 0.28298436 0.26657727 0.29328681\n",
      " 0.30079141 0.28279694 0.30200246 0.29738338 0.26347837 0.26695067\n",
      " 0.41852597 0.41483084 0.43775168 0.43771756 0.43399017 0.39161029]\n"
     ]
    }
   ],
   "source": [
    "# 印出 p-value\n",
    "print(f_regression(arr_X, arr_y)[1])"
   ]
  },
  {
   "cell_type": "code",
   "execution_count": 45,
   "metadata": {},
   "outputs": [],
   "source": [
    "import statsmodels.api as sm\n"
   ]
  },
  {
   "cell_type": "code",
   "execution_count": 46,
   "metadata": {},
   "outputs": [
    {
     "name": "stderr",
     "output_type": "stream",
     "text": [
      "d:\\Users\\63742\\Anaconda3\\lib\\site-packages\\statsmodels\\tsa\\tsatools.py:142: FutureWarning: In a future version of pandas all arguments of concat except for the argument 'objs' will be keyword-only\n",
      "  x = pd.concat(x[::order], 1)\n"
     ]
    }
   ],
   "source": [
    "#add constant to predictor variables\n",
    "x = sm.add_constant(x)\n",
    "\n",
    "#fit linear regression model\n",
    "model = sm.OLS(y, x).fit()"
   ]
  },
  {
   "cell_type": "code",
   "execution_count": 49,
   "metadata": {},
   "outputs": [
    {
     "name": "stdout",
     "output_type": "stream",
     "text": [
      "9863895.416157946\n",
      "597806.4845291204\n",
      "10461701.900687067\n"
     ]
    }
   ],
   "source": [
    "#calculate sse\n",
    "sse = np.sum((model.fittedvalues - y)**2)\n",
    "print(sse)\n",
    "\n",
    "#calculate ssr\n",
    "ssr = np.sum((model.fittedvalues - y.mean())**2)\n",
    "print(ssr)\n",
    "\n",
    "#calculate sst\n",
    "sst = ssr + sse\n",
    "print(sst)"
   ]
  },
  {
   "cell_type": "code",
   "execution_count": 51,
   "metadata": {},
   "outputs": [
    {
     "data": {
      "text/html": [
       "<table class=\"simpletable\">\n",
       "<caption>OLS Regression Results</caption>\n",
       "<tr>\n",
       "  <th>Dep. Variable:</th>          <td>人均用電量</td>      <th>  R-squared:         </th> <td>   0.057</td>\n",
       "</tr>\n",
       "<tr>\n",
       "  <th>Model:</th>                   <td>OLS</td>       <th>  Adj. R-squared:    </th> <td>   0.023</td>\n",
       "</tr>\n",
       "<tr>\n",
       "  <th>Method:</th>             <td>Least Squares</td>  <th>  F-statistic:       </th> <td>   1.664</td>\n",
       "</tr>\n",
       "<tr>\n",
       "  <th>Date:</th>             <td>Wed, 13 Jul 2022</td> <th>  Prob (F-statistic):</th>  <td>0.0247</td> \n",
       "</tr>\n",
       "<tr>\n",
       "  <th>Time:</th>                 <td>17:38:54</td>     <th>  Log-Likelihood:    </th> <td> -4245.7</td>\n",
       "</tr>\n",
       "<tr>\n",
       "  <th>No. Observations:</th>      <td>   684</td>      <th>  AIC:               </th> <td>   8541.</td>\n",
       "</tr>\n",
       "<tr>\n",
       "  <th>Df Residuals:</th>          <td>   659</td>      <th>  BIC:               </th> <td>   8655.</td>\n",
       "</tr>\n",
       "<tr>\n",
       "  <th>Df Model:</th>              <td>    24</td>      <th>                     </th>     <td> </td>   \n",
       "</tr>\n",
       "<tr>\n",
       "  <th>Covariance Type:</th>      <td>nonrobust</td>    <th>                     </th>     <td> </td>   \n",
       "</tr>\n",
       "</table>\n",
       "<table class=\"simpletable\">\n",
       "<tr>\n",
       "    <td></td>       <th>coef</th>     <th>std err</th>      <th>t</th>      <th>P>|t|</th>  <th>[0.025</th>    <th>0.975]</th>  \n",
       "</tr>\n",
       "<tr>\n",
       "  <th>const</th> <td>  463.3436</td> <td>  123.317</td> <td>    3.757</td> <td> 0.000</td> <td>  221.202</td> <td>  705.485</td>\n",
       "</tr>\n",
       "<tr>\n",
       "  <th>T_0</th>   <td>  -92.7317</td> <td>   86.171</td> <td>   -1.076</td> <td> 0.282</td> <td> -261.935</td> <td>   76.472</td>\n",
       "</tr>\n",
       "<tr>\n",
       "  <th>T_1</th>   <td>   42.2154</td> <td>   85.581</td> <td>    0.493</td> <td> 0.622</td> <td> -125.829</td> <td>  210.260</td>\n",
       "</tr>\n",
       "<tr>\n",
       "  <th>T_2</th>   <td> -126.1393</td> <td>   80.082</td> <td>   -1.575</td> <td> 0.116</td> <td> -283.386</td> <td>   31.108</td>\n",
       "</tr>\n",
       "<tr>\n",
       "  <th>T_3</th>   <td>  -13.0503</td> <td>   46.468</td> <td>   -0.281</td> <td> 0.779</td> <td> -104.294</td> <td>   78.193</td>\n",
       "</tr>\n",
       "<tr>\n",
       "  <th>T_4</th>   <td>  119.6168</td> <td>   82.375</td> <td>    1.452</td> <td> 0.147</td> <td>  -42.132</td> <td>  281.366</td>\n",
       "</tr>\n",
       "<tr>\n",
       "  <th>T_5</th>   <td>  -98.5073</td> <td>   79.174</td> <td>   -1.244</td> <td> 0.214</td> <td> -253.970</td> <td>   56.956</td>\n",
       "</tr>\n",
       "<tr>\n",
       "  <th>T_6</th>   <td>  134.0008</td> <td>   72.236</td> <td>    1.855</td> <td> 0.064</td> <td>   -7.840</td> <td>  275.841</td>\n",
       "</tr>\n",
       "<tr>\n",
       "  <th>T_7</th>   <td> -121.7719</td> <td>   56.326</td> <td>   -2.162</td> <td> 0.031</td> <td> -232.372</td> <td>  -11.172</td>\n",
       "</tr>\n",
       "<tr>\n",
       "  <th>T_8</th>   <td>  -29.7484</td> <td>   33.299</td> <td>   -0.893</td> <td> 0.372</td> <td>  -95.133</td> <td>   35.636</td>\n",
       "</tr>\n",
       "<tr>\n",
       "  <th>T_9</th>   <td>   37.2155</td> <td>   43.402</td> <td>    0.857</td> <td> 0.391</td> <td>  -48.007</td> <td>  122.438</td>\n",
       "</tr>\n",
       "<tr>\n",
       "  <th>T_10</th>  <td>   26.0276</td> <td>   37.123</td> <td>    0.701</td> <td> 0.483</td> <td>  -46.867</td> <td>   98.922</td>\n",
       "</tr>\n",
       "<tr>\n",
       "  <th>T_11</th>  <td>    5.8597</td> <td>   40.321</td> <td>    0.145</td> <td> 0.884</td> <td>  -73.313</td> <td>   85.033</td>\n",
       "</tr>\n",
       "<tr>\n",
       "  <th>T_12</th>  <td>   48.7659</td> <td>   38.339</td> <td>    1.272</td> <td> 0.204</td> <td>  -26.516</td> <td>  124.048</td>\n",
       "</tr>\n",
       "<tr>\n",
       "  <th>T_13</th>  <td>  -24.2711</td> <td>   40.169</td> <td>   -0.604</td> <td> 0.546</td> <td> -103.147</td> <td>   54.604</td>\n",
       "</tr>\n",
       "<tr>\n",
       "  <th>T_14</th>  <td>   48.2505</td> <td>   37.534</td> <td>    1.286</td> <td> 0.199</td> <td>  -25.451</td> <td>  121.952</td>\n",
       "</tr>\n",
       "<tr>\n",
       "  <th>T_15</th>  <td>  -63.7755</td> <td>   39.397</td> <td>   -1.619</td> <td> 0.106</td> <td> -141.135</td> <td>   13.584</td>\n",
       "</tr>\n",
       "<tr>\n",
       "  <th>T_16</th>  <td> -103.6987</td> <td>   39.778</td> <td>   -2.607</td> <td> 0.009</td> <td> -181.806</td> <td>  -25.591</td>\n",
       "</tr>\n",
       "<tr>\n",
       "  <th>T_17</th>  <td>  -92.0670</td> <td>   56.620</td> <td>   -1.626</td> <td> 0.104</td> <td> -203.245</td> <td>   19.111</td>\n",
       "</tr>\n",
       "<tr>\n",
       "  <th>T_18</th>  <td>   87.4328</td> <td>   55.813</td> <td>    1.567</td> <td> 0.118</td> <td>  -22.161</td> <td>  197.027</td>\n",
       "</tr>\n",
       "<tr>\n",
       "  <th>T_19</th>  <td>  131.0576</td> <td>  107.723</td> <td>    1.217</td> <td> 0.224</td> <td>  -80.465</td> <td>  342.580</td>\n",
       "</tr>\n",
       "<tr>\n",
       "  <th>T_20</th>  <td> -150.4075</td> <td>   94.137</td> <td>   -1.598</td> <td> 0.111</td> <td> -335.253</td> <td>   34.438</td>\n",
       "</tr>\n",
       "<tr>\n",
       "  <th>T_21</th>  <td>  -35.7730</td> <td>   85.572</td> <td>   -0.418</td> <td> 0.676</td> <td> -203.799</td> <td>  132.253</td>\n",
       "</tr>\n",
       "<tr>\n",
       "  <th>T_22</th>  <td>  108.4331</td> <td>   72.796</td> <td>    1.490</td> <td> 0.137</td> <td>  -34.507</td> <td>  251.373</td>\n",
       "</tr>\n",
       "<tr>\n",
       "  <th>T_23</th>  <td>   99.7968</td> <td>   71.779</td> <td>    1.390</td> <td> 0.165</td> <td>  -41.145</td> <td>  240.739</td>\n",
       "</tr>\n",
       "</table>\n",
       "<table class=\"simpletable\">\n",
       "<tr>\n",
       "  <th>Omnibus:</th>       <td>47.124</td> <th>  Durbin-Watson:     </th> <td>   1.850</td>\n",
       "</tr>\n",
       "<tr>\n",
       "  <th>Prob(Omnibus):</th> <td> 0.000</td> <th>  Jarque-Bera (JB):  </th> <td>  22.672</td>\n",
       "</tr>\n",
       "<tr>\n",
       "  <th>Skew:</th>          <td> 0.253</td> <th>  Prob(JB):          </th> <td>1.19e-05</td>\n",
       "</tr>\n",
       "<tr>\n",
       "  <th>Kurtosis:</th>      <td> 2.266</td> <th>  Cond. No.          </th> <td>2.23e+03</td>\n",
       "</tr>\n",
       "</table><br/><br/>Notes:<br/>[1] Standard Errors assume that the covariance matrix of the errors is correctly specified.<br/>[2] The condition number is large, 2.23e+03. This might indicate that there are<br/>strong multicollinearity or other numerical problems."
      ],
      "text/plain": [
       "<class 'statsmodels.iolib.summary.Summary'>\n",
       "\"\"\"\n",
       "                            OLS Regression Results                            \n",
       "==============================================================================\n",
       "Dep. Variable:                  人均用電量   R-squared:                       0.057\n",
       "Model:                            OLS   Adj. R-squared:                  0.023\n",
       "Method:                 Least Squares   F-statistic:                     1.664\n",
       "Date:                Wed, 13 Jul 2022   Prob (F-statistic):             0.0247\n",
       "Time:                        17:38:54   Log-Likelihood:                -4245.7\n",
       "No. Observations:                 684   AIC:                             8541.\n",
       "Df Residuals:                     659   BIC:                             8655.\n",
       "Df Model:                          24                                         \n",
       "Covariance Type:            nonrobust                                         \n",
       "==============================================================================\n",
       "                 coef    std err          t      P>|t|      [0.025      0.975]\n",
       "------------------------------------------------------------------------------\n",
       "const        463.3436    123.317      3.757      0.000     221.202     705.485\n",
       "T_0          -92.7317     86.171     -1.076      0.282    -261.935      76.472\n",
       "T_1           42.2154     85.581      0.493      0.622    -125.829     210.260\n",
       "T_2         -126.1393     80.082     -1.575      0.116    -283.386      31.108\n",
       "T_3          -13.0503     46.468     -0.281      0.779    -104.294      78.193\n",
       "T_4          119.6168     82.375      1.452      0.147     -42.132     281.366\n",
       "T_5          -98.5073     79.174     -1.244      0.214    -253.970      56.956\n",
       "T_6          134.0008     72.236      1.855      0.064      -7.840     275.841\n",
       "T_7         -121.7719     56.326     -2.162      0.031    -232.372     -11.172\n",
       "T_8          -29.7484     33.299     -0.893      0.372     -95.133      35.636\n",
       "T_9           37.2155     43.402      0.857      0.391     -48.007     122.438\n",
       "T_10          26.0276     37.123      0.701      0.483     -46.867      98.922\n",
       "T_11           5.8597     40.321      0.145      0.884     -73.313      85.033\n",
       "T_12          48.7659     38.339      1.272      0.204     -26.516     124.048\n",
       "T_13         -24.2711     40.169     -0.604      0.546    -103.147      54.604\n",
       "T_14          48.2505     37.534      1.286      0.199     -25.451     121.952\n",
       "T_15         -63.7755     39.397     -1.619      0.106    -141.135      13.584\n",
       "T_16        -103.6987     39.778     -2.607      0.009    -181.806     -25.591\n",
       "T_17         -92.0670     56.620     -1.626      0.104    -203.245      19.111\n",
       "T_18          87.4328     55.813      1.567      0.118     -22.161     197.027\n",
       "T_19         131.0576    107.723      1.217      0.224     -80.465     342.580\n",
       "T_20        -150.4075     94.137     -1.598      0.111    -335.253      34.438\n",
       "T_21         -35.7730     85.572     -0.418      0.676    -203.799     132.253\n",
       "T_22         108.4331     72.796      1.490      0.137     -34.507     251.373\n",
       "T_23          99.7968     71.779      1.390      0.165     -41.145     240.739\n",
       "==============================================================================\n",
       "Omnibus:                       47.124   Durbin-Watson:                   1.850\n",
       "Prob(Omnibus):                  0.000   Jarque-Bera (JB):               22.672\n",
       "Skew:                           0.253   Prob(JB):                     1.19e-05\n",
       "Kurtosis:                       2.266   Cond. No.                     2.23e+03\n",
       "==============================================================================\n",
       "\n",
       "Notes:\n",
       "[1] Standard Errors assume that the covariance matrix of the errors is correctly specified.\n",
       "[2] The condition number is large, 2.23e+03. This might indicate that there are\n",
       "strong multicollinearity or other numerical problems.\n",
       "\"\"\""
      ]
     },
     "execution_count": 51,
     "metadata": {},
     "output_type": "execute_result"
    }
   ],
   "source": [
    "model.summary()"
   ]
  }
 ],
 "metadata": {
  "kernelspec": {
   "display_name": "Python 3.9.7 ('base')",
   "language": "python",
   "name": "python3"
  },
  "language_info": {
   "codemirror_mode": {
    "name": "ipython",
    "version": 3
   },
   "file_extension": ".py",
   "mimetype": "text/x-python",
   "name": "python",
   "nbconvert_exporter": "python",
   "pygments_lexer": "ipython3",
   "version": "3.9.7"
  },
  "orig_nbformat": 4,
  "vscode": {
   "interpreter": {
    "hash": "6cb4a81ddedf46bc6fe721b2001f408e56f4870b9f022b7afb3580384a449d25"
   }
  }
 },
 "nbformat": 4,
 "nbformat_minor": 2
}
