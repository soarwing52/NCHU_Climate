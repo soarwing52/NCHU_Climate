{
 "cells": [
  {
   "cell_type": "code",
   "execution_count": 1,
   "metadata": {},
   "outputs": [],
   "source": [
    "import numpy as np\n",
    "import pandas as pd"
   ]
  },
  {
   "cell_type": "code",
   "execution_count": 2,
   "metadata": {},
   "outputs": [],
   "source": [
    "df_t = pd.read_csv('../final/joinedClimateJuly.csv')\n",
    "df_avg_electricity = pd.read_csv('../avg_electricity/avg_electricity_july.csv')"
   ]
  },
  {
   "cell_type": "code",
   "execution_count": 3,
   "metadata": {},
   "outputs": [],
   "source": [
    "df = pd.merge(df_t, df_avg_electricity, left_on=['TOWNNAME', 'VILLNAME'], right_on=['鄉鎮名稱', '村里名稱'],how='left')\n"
   ]
  },
  {
   "cell_type": "code",
   "execution_count": 4,
   "metadata": {},
   "outputs": [],
   "source": [
    "result_x = pd.DataFrame()\n",
    "result_y = pd.DataFrame()\n",
    "\n",
    "for i in range(11,15):\n",
    "    year = i\n",
    "    col_list = []\n",
    "    rename_dict = {f\"人均用電量_20{year}\":\"人均用電量\"}\n",
    "    x_col = []\n",
    "\n",
    "    for a in range(24):\n",
    "        col_list.append(f'T_{year}_{a}')\n",
    "        x_col.append(f'T_{a}')\n",
    "        rename_dict[f'T_{year}_{a}'] = f'T_{a}'\n",
    "\n",
    "    df_temp = df[[f\"人均用電量_20{year}\"] + col_list]\n",
    "    df_temp=df_temp.dropna(axis=0)\n",
    "    df_temp = df_temp.rename(columns=rename_dict)\n",
    "\n",
    "    df_x_temp = df_temp[x_col]\n",
    "\n",
    "    df_y_temp = df_temp[[\"人均用電量\"]]\n",
    "    result_x = pd.concat([result_x, df_x_temp],axis=0)\n",
    "    result_y = pd.concat([result_y, df_y_temp],axis=0)"
   ]
  },
  {
   "cell_type": "code",
   "execution_count": 5,
   "metadata": {},
   "outputs": [],
   "source": [
    "taipei_center = ['松山區','信義區','大安區','中山區','中正區']\n",
    "x = result_x\n",
    "y = result_y[\"人均用電量\"]"
   ]
  },
  {
   "cell_type": "code",
   "execution_count": 6,
   "metadata": {},
   "outputs": [],
   "source": [
    "arr_X = x.to_numpy()\n",
    "arr_y = y.to_numpy()"
   ]
  },
  {
   "cell_type": "code",
   "execution_count": 7,
   "metadata": {},
   "outputs": [],
   "source": [
    "import numpy as np\n",
    "from sklearn.linear_model import LinearRegression"
   ]
  },
  {
   "cell_type": "code",
   "execution_count": 8,
   "metadata": {},
   "outputs": [
    {
     "name": "stdout",
     "output_type": "stream",
     "text": [
      "[ 748.11373124 -455.01263392   17.42520102   81.45773677   99.51152784\n",
      " -358.5883891    86.82462575   51.65160256   -9.18235495   61.26521346\n",
      "  -73.68873982   47.36799314    2.71273345   56.8279075  -104.08076549\n",
      "    1.40683022  -20.58864563   37.21402946 -145.77552218  658.28423911\n",
      " -736.43258393   26.03420011 -454.61576441  460.56959899]\n",
      "-1757.5622556912467\n"
     ]
    }
   ],
   "source": [
    "lm = LinearRegression()\n",
    "lm.fit(arr_X, arr_y)\n",
    "\n",
    "# 印出係數\n",
    "print(lm.coef_)\n",
    "\n",
    "# 印出截距\n",
    "print(lm.intercept_ )"
   ]
  },
  {
   "cell_type": "code",
   "execution_count": 9,
   "metadata": {},
   "outputs": [
    {
     "name": "stdout",
     "output_type": "stream",
     "text": [
      "32640.431479772305\n",
      "0.04716252278944866\n",
      "0.013433762534207902\n"
     ]
    }
   ],
   "source": [
    "# 模型績效\n",
    "mse = np.mean((lm.predict(arr_X) - arr_y) ** 2)\n",
    "r_squared = lm.score(arr_X, arr_y)\n",
    "adj_r_squared = r_squared - (1 - r_squared) * (arr_X.shape[1] / (arr_X.shape[0] - arr_X.shape[1] - 1))\n",
    "\n",
    "# 印出模型績效\n",
    "print(mse)\n",
    "print(r_squared)\n",
    "print(adj_r_squared)"
   ]
  },
  {
   "cell_type": "code",
   "execution_count": 10,
   "metadata": {},
   "outputs": [],
   "source": [
    "from sklearn.feature_selection import f_regression"
   ]
  },
  {
   "cell_type": "code",
   "execution_count": 11,
   "metadata": {},
   "outputs": [
    {
     "name": "stdout",
     "output_type": "stream",
     "text": [
      "[0.1551521  0.13846859 0.17659563 0.23211446 0.2263613  0.31029177\n",
      " 0.3923223  0.59598008 0.54542756 0.43695181 0.39676614 0.22453815\n",
      " 0.53192041 0.59462424 0.37982187 0.81315226 0.23347476 0.66852128\n",
      " 0.89906292 0.57975562 0.38896749 0.24246876 0.21001567 0.19263529]\n"
     ]
    }
   ],
   "source": [
    "# 印出 p-value\n",
    "print(f_regression(arr_X, arr_y)[1])"
   ]
  },
  {
   "cell_type": "code",
   "execution_count": 13,
   "metadata": {},
   "outputs": [],
   "source": [
    "import statsmodels.api as sm\n"
   ]
  },
  {
   "cell_type": "code",
   "execution_count": 14,
   "metadata": {},
   "outputs": [
    {
     "name": "stderr",
     "output_type": "stream",
     "text": [
      "d:\\Users\\63742\\Anaconda3\\lib\\site-packages\\statsmodels\\tsa\\tsatools.py:142: FutureWarning: In a future version of pandas all arguments of concat except for the argument 'objs' will be keyword-only\n",
      "  x = pd.concat(x[::order], 1)\n"
     ]
    }
   ],
   "source": [
    "#add constant to predictor variables\n",
    "x = sm.add_constant(x)\n",
    "\n",
    "#fit linear regression model\n",
    "model = sm.OLS(y, x).fit()"
   ]
  },
  {
   "cell_type": "code",
   "execution_count": 15,
   "metadata": {},
   "outputs": [
    {
     "name": "stdout",
     "output_type": "stream",
     "text": [
      "22946223.33027993\n",
      "1135767.4384453339\n",
      "24081990.768725265\n"
     ]
    }
   ],
   "source": [
    "#calculate sse\n",
    "sse = np.sum((model.fittedvalues - y)**2)\n",
    "print(sse)\n",
    "\n",
    "#calculate ssr\n",
    "ssr = np.sum((model.fittedvalues - y.mean())**2)\n",
    "print(ssr)\n",
    "\n",
    "#calculate sst\n",
    "sst = ssr + sse\n",
    "print(sst)"
   ]
  },
  {
   "cell_type": "code",
   "execution_count": 19,
   "metadata": {},
   "outputs": [
    {
     "data": {
      "text/html": [
       "<table class=\"simpletable\">\n",
       "<caption>OLS Regression Results</caption>\n",
       "<tr>\n",
       "  <th>Dep. Variable:</th>          <td>人均用電量</td>      <th>  R-squared:         </th> <td>   0.047</td>\n",
       "</tr>\n",
       "<tr>\n",
       "  <th>Model:</th>                   <td>OLS</td>       <th>  Adj. R-squared:    </th> <td>   0.013</td>\n",
       "</tr>\n",
       "<tr>\n",
       "  <th>Method:</th>             <td>Least Squares</td>  <th>  F-statistic:       </th> <td>   1.398</td>\n",
       "</tr>\n",
       "<tr>\n",
       "  <th>Date:</th>             <td>Wed, 13 Jul 2022</td> <th>  Prob (F-statistic):</th>  <td>0.0983</td> \n",
       "</tr>\n",
       "<tr>\n",
       "  <th>Time:</th>                 <td>17:38:39</td>     <th>  Log-Likelihood:    </th> <td> -4650.8</td>\n",
       "</tr>\n",
       "<tr>\n",
       "  <th>No. Observations:</th>      <td>   703</td>      <th>  AIC:               </th> <td>   9352.</td>\n",
       "</tr>\n",
       "<tr>\n",
       "  <th>Df Residuals:</th>          <td>   678</td>      <th>  BIC:               </th> <td>   9465.</td>\n",
       "</tr>\n",
       "<tr>\n",
       "  <th>Df Model:</th>              <td>    24</td>      <th>                     </th>     <td> </td>   \n",
       "</tr>\n",
       "<tr>\n",
       "  <th>Covariance Type:</th>      <td>nonrobust</td>    <th>                     </th>     <td> </td>   \n",
       "</tr>\n",
       "</table>\n",
       "<table class=\"simpletable\">\n",
       "<tr>\n",
       "    <td></td>       <th>coef</th>     <th>std err</th>      <th>t</th>      <th>P>|t|</th>  <th>[0.025</th>    <th>0.975]</th>  \n",
       "</tr>\n",
       "<tr>\n",
       "  <th>const</th> <td>-1757.5623</td> <td> 1341.189</td> <td>   -1.310</td> <td> 0.190</td> <td>-4390.946</td> <td>  875.821</td>\n",
       "</tr>\n",
       "<tr>\n",
       "  <th>T_0</th>   <td>  748.1137</td> <td>  359.805</td> <td>    2.079</td> <td> 0.038</td> <td>   41.647</td> <td> 1454.580</td>\n",
       "</tr>\n",
       "<tr>\n",
       "  <th>T_1</th>   <td> -455.0126</td> <td>  323.022</td> <td>   -1.409</td> <td> 0.159</td> <td>-1089.256</td> <td>  179.231</td>\n",
       "</tr>\n",
       "<tr>\n",
       "  <th>T_2</th>   <td>   17.4252</td> <td>  212.382</td> <td>    0.082</td> <td> 0.935</td> <td> -399.580</td> <td>  434.431</td>\n",
       "</tr>\n",
       "<tr>\n",
       "  <th>T_3</th>   <td>   81.4577</td> <td>  173.403</td> <td>    0.470</td> <td> 0.639</td> <td> -259.014</td> <td>  421.929</td>\n",
       "</tr>\n",
       "<tr>\n",
       "  <th>T_4</th>   <td>   99.5115</td> <td>  176.294</td> <td>    0.564</td> <td> 0.573</td> <td> -246.636</td> <td>  445.659</td>\n",
       "</tr>\n",
       "<tr>\n",
       "  <th>T_5</th>   <td> -358.5884</td> <td>  187.537</td> <td>   -1.912</td> <td> 0.056</td> <td> -726.812</td> <td>    9.636</td>\n",
       "</tr>\n",
       "<tr>\n",
       "  <th>T_6</th>   <td>   86.8246</td> <td>  118.605</td> <td>    0.732</td> <td> 0.464</td> <td> -146.053</td> <td>  319.702</td>\n",
       "</tr>\n",
       "<tr>\n",
       "  <th>T_7</th>   <td>   51.6516</td> <td>   77.619</td> <td>    0.665</td> <td> 0.506</td> <td> -100.750</td> <td>  204.054</td>\n",
       "</tr>\n",
       "<tr>\n",
       "  <th>T_8</th>   <td>   -9.1824</td> <td>   53.753</td> <td>   -0.171</td> <td> 0.864</td> <td> -114.724</td> <td>   96.359</td>\n",
       "</tr>\n",
       "<tr>\n",
       "  <th>T_9</th>   <td>   61.2652</td> <td>   54.066</td> <td>    1.133</td> <td> 0.258</td> <td>  -44.892</td> <td>  167.422</td>\n",
       "</tr>\n",
       "<tr>\n",
       "  <th>T_10</th>  <td>  -73.6887</td> <td>   37.829</td> <td>   -1.948</td> <td> 0.052</td> <td> -147.965</td> <td>    0.588</td>\n",
       "</tr>\n",
       "<tr>\n",
       "  <th>T_11</th>  <td>   47.3680</td> <td>   27.715</td> <td>    1.709</td> <td> 0.088</td> <td>   -7.050</td> <td>  101.786</td>\n",
       "</tr>\n",
       "<tr>\n",
       "  <th>T_12</th>  <td>    2.7127</td> <td>   28.978</td> <td>    0.094</td> <td> 0.925</td> <td>  -54.185</td> <td>   59.611</td>\n",
       "</tr>\n",
       "<tr>\n",
       "  <th>T_13</th>  <td>   56.8279</td> <td>   33.617</td> <td>    1.690</td> <td> 0.091</td> <td>   -9.179</td> <td>  122.835</td>\n",
       "</tr>\n",
       "<tr>\n",
       "  <th>T_14</th>  <td> -104.0808</td> <td>   44.337</td> <td>   -2.347</td> <td> 0.019</td> <td> -191.136</td> <td>  -17.026</td>\n",
       "</tr>\n",
       "<tr>\n",
       "  <th>T_15</th>  <td>    1.4068</td> <td>   37.035</td> <td>    0.038</td> <td> 0.970</td> <td>  -71.311</td> <td>   74.125</td>\n",
       "</tr>\n",
       "<tr>\n",
       "  <th>T_16</th>  <td>  -20.5886</td> <td>   24.215</td> <td>   -0.850</td> <td> 0.395</td> <td>  -68.134</td> <td>   26.957</td>\n",
       "</tr>\n",
       "<tr>\n",
       "  <th>T_17</th>  <td>   37.2140</td> <td>   47.577</td> <td>    0.782</td> <td> 0.434</td> <td>  -56.201</td> <td>  130.629</td>\n",
       "</tr>\n",
       "<tr>\n",
       "  <th>T_18</th>  <td> -145.7755</td> <td>  105.967</td> <td>   -1.376</td> <td> 0.169</td> <td> -353.839</td> <td>   62.288</td>\n",
       "</tr>\n",
       "<tr>\n",
       "  <th>T_19</th>  <td>  658.2842</td> <td>  307.960</td> <td>    2.138</td> <td> 0.033</td> <td>   53.614</td> <td> 1262.955</td>\n",
       "</tr>\n",
       "<tr>\n",
       "  <th>T_20</th>  <td> -736.4326</td> <td>  476.326</td> <td>   -1.546</td> <td> 0.123</td> <td>-1671.685</td> <td>  198.820</td>\n",
       "</tr>\n",
       "<tr>\n",
       "  <th>T_21</th>  <td>   26.0342</td> <td>  541.784</td> <td>    0.048</td> <td> 0.962</td> <td>-1037.742</td> <td> 1089.810</td>\n",
       "</tr>\n",
       "<tr>\n",
       "  <th>T_22</th>  <td> -454.6158</td> <td>  436.520</td> <td>   -1.041</td> <td> 0.298</td> <td>-1311.709</td> <td>  402.477</td>\n",
       "</tr>\n",
       "<tr>\n",
       "  <th>T_23</th>  <td>  460.5696</td> <td>  312.562</td> <td>    1.474</td> <td> 0.141</td> <td> -153.136</td> <td> 1074.275</td>\n",
       "</tr>\n",
       "</table>\n",
       "<table class=\"simpletable\">\n",
       "<tr>\n",
       "  <th>Omnibus:</th>       <td>59.102</td> <th>  Durbin-Watson:     </th> <td>   1.866</td>\n",
       "</tr>\n",
       "<tr>\n",
       "  <th>Prob(Omnibus):</th> <td> 0.000</td> <th>  Jarque-Bera (JB):  </th> <td>  28.206</td>\n",
       "</tr>\n",
       "<tr>\n",
       "  <th>Skew:</th>          <td> 0.305</td> <th>  Prob(JB):          </th> <td>7.50e-07</td>\n",
       "</tr>\n",
       "<tr>\n",
       "  <th>Kurtosis:</th>      <td> 2.231</td> <th>  Cond. No.          </th> <td>3.17e+04</td>\n",
       "</tr>\n",
       "</table><br/><br/>Notes:<br/>[1] Standard Errors assume that the covariance matrix of the errors is correctly specified.<br/>[2] The condition number is large, 3.17e+04. This might indicate that there are<br/>strong multicollinearity or other numerical problems."
      ],
      "text/plain": [
       "<class 'statsmodels.iolib.summary.Summary'>\n",
       "\"\"\"\n",
       "                            OLS Regression Results                            \n",
       "==============================================================================\n",
       "Dep. Variable:                  人均用電量   R-squared:                       0.047\n",
       "Model:                            OLS   Adj. R-squared:                  0.013\n",
       "Method:                 Least Squares   F-statistic:                     1.398\n",
       "Date:                Wed, 13 Jul 2022   Prob (F-statistic):             0.0983\n",
       "Time:                        17:38:39   Log-Likelihood:                -4650.8\n",
       "No. Observations:                 703   AIC:                             9352.\n",
       "Df Residuals:                     678   BIC:                             9465.\n",
       "Df Model:                          24                                         \n",
       "Covariance Type:            nonrobust                                         \n",
       "==============================================================================\n",
       "                 coef    std err          t      P>|t|      [0.025      0.975]\n",
       "------------------------------------------------------------------------------\n",
       "const      -1757.5623   1341.189     -1.310      0.190   -4390.946     875.821\n",
       "T_0          748.1137    359.805      2.079      0.038      41.647    1454.580\n",
       "T_1         -455.0126    323.022     -1.409      0.159   -1089.256     179.231\n",
       "T_2           17.4252    212.382      0.082      0.935    -399.580     434.431\n",
       "T_3           81.4577    173.403      0.470      0.639    -259.014     421.929\n",
       "T_4           99.5115    176.294      0.564      0.573    -246.636     445.659\n",
       "T_5         -358.5884    187.537     -1.912      0.056    -726.812       9.636\n",
       "T_6           86.8246    118.605      0.732      0.464    -146.053     319.702\n",
       "T_7           51.6516     77.619      0.665      0.506    -100.750     204.054\n",
       "T_8           -9.1824     53.753     -0.171      0.864    -114.724      96.359\n",
       "T_9           61.2652     54.066      1.133      0.258     -44.892     167.422\n",
       "T_10         -73.6887     37.829     -1.948      0.052    -147.965       0.588\n",
       "T_11          47.3680     27.715      1.709      0.088      -7.050     101.786\n",
       "T_12           2.7127     28.978      0.094      0.925     -54.185      59.611\n",
       "T_13          56.8279     33.617      1.690      0.091      -9.179     122.835\n",
       "T_14        -104.0808     44.337     -2.347      0.019    -191.136     -17.026\n",
       "T_15           1.4068     37.035      0.038      0.970     -71.311      74.125\n",
       "T_16         -20.5886     24.215     -0.850      0.395     -68.134      26.957\n",
       "T_17          37.2140     47.577      0.782      0.434     -56.201     130.629\n",
       "T_18        -145.7755    105.967     -1.376      0.169    -353.839      62.288\n",
       "T_19         658.2842    307.960      2.138      0.033      53.614    1262.955\n",
       "T_20        -736.4326    476.326     -1.546      0.123   -1671.685     198.820\n",
       "T_21          26.0342    541.784      0.048      0.962   -1037.742    1089.810\n",
       "T_22        -454.6158    436.520     -1.041      0.298   -1311.709     402.477\n",
       "T_23         460.5696    312.562      1.474      0.141    -153.136    1074.275\n",
       "==============================================================================\n",
       "Omnibus:                       59.102   Durbin-Watson:                   1.866\n",
       "Prob(Omnibus):                  0.000   Jarque-Bera (JB):               28.206\n",
       "Skew:                           0.305   Prob(JB):                     7.50e-07\n",
       "Kurtosis:                       2.231   Cond. No.                     3.17e+04\n",
       "==============================================================================\n",
       "\n",
       "Notes:\n",
       "[1] Standard Errors assume that the covariance matrix of the errors is correctly specified.\n",
       "[2] The condition number is large, 3.17e+04. This might indicate that there are\n",
       "strong multicollinearity or other numerical problems.\n",
       "\"\"\""
      ]
     },
     "execution_count": 19,
     "metadata": {},
     "output_type": "execute_result"
    }
   ],
   "source": [
    "model.summary()"
   ]
  }
 ],
 "metadata": {
  "kernelspec": {
   "display_name": "Python 3.9.7 ('base')",
   "language": "python",
   "name": "python3"
  },
  "language_info": {
   "codemirror_mode": {
    "name": "ipython",
    "version": 3
   },
   "file_extension": ".py",
   "mimetype": "text/x-python",
   "name": "python",
   "nbconvert_exporter": "python",
   "pygments_lexer": "ipython3",
   "version": "3.9.7"
  },
  "orig_nbformat": 4,
  "vscode": {
   "interpreter": {
    "hash": "6cb4a81ddedf46bc6fe721b2001f408e56f4870b9f022b7afb3580384a449d25"
   }
  }
 },
 "nbformat": 4,
 "nbformat_minor": 2
}
