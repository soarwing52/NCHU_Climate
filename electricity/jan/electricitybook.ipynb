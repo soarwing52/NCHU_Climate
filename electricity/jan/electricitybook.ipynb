{
 "cells": [
  {
   "cell_type": "code",
   "execution_count": 1,
   "metadata": {},
   "outputs": [],
   "source": [
    "import numpy as np\n",
    "import pandas as pd\n",
    "import os\n"
   ]
  },
  {
   "cell_type": "code",
   "execution_count": 6,
   "metadata": {},
   "outputs": [],
   "source": [
    "df2011 = pd.read_csv(\"2011-村里用電量.csv\")\n",
    "df2012 = pd.read_csv(\"2012-村里用電量.csv\")\n",
    "df2013 = pd.read_csv(\"2013-村里用電量.csv\")\n",
    "df2014 = pd.read_csv(\"2014-村里用電量.csv\")\n",
    "df2015 = pd.read_csv(\"2015-村里用電量.csv\")"
   ]
  },
  {
   "cell_type": "code",
   "execution_count": 7,
   "metadata": {},
   "outputs": [
    {
     "data": {
      "text/html": [
       "<div>\n",
       "<style scoped>\n",
       "    .dataframe tbody tr th:only-of-type {\n",
       "        vertical-align: middle;\n",
       "    }\n",
       "\n",
       "    .dataframe tbody tr th {\n",
       "        vertical-align: top;\n",
       "    }\n",
       "\n",
       "    .dataframe thead th {\n",
       "        text-align: right;\n",
       "    }\n",
       "</style>\n",
       "<table border=\"1\" class=\"dataframe\">\n",
       "  <thead>\n",
       "    <tr style=\"text-align: right;\">\n",
       "      <th></th>\n",
       "      <th>鄉鎮名稱</th>\n",
       "      <th>村里名稱</th>\n",
       "      <th>用電量_2011</th>\n",
       "      <th>用電量_2012</th>\n",
       "      <th>用電量_2013</th>\n",
       "      <th>用電量_2014</th>\n",
       "      <th>用電量_2015</th>\n",
       "    </tr>\n",
       "  </thead>\n",
       "  <tbody>\n",
       "    <tr>\n",
       "      <th>0</th>\n",
       "      <td>松山區</td>\n",
       "      <td>精忠里</td>\n",
       "      <td>1002883</td>\n",
       "      <td>126</td>\n",
       "      <td>987114</td>\n",
       "      <td>1022204</td>\n",
       "      <td>1008954</td>\n",
       "    </tr>\n",
       "    <tr>\n",
       "      <th>1</th>\n",
       "      <td>松山區</td>\n",
       "      <td>民有里</td>\n",
       "      <td>2935636</td>\n",
       "      <td>--</td>\n",
       "      <td>2724746</td>\n",
       "      <td>2860800</td>\n",
       "      <td>2782233</td>\n",
       "    </tr>\n",
       "    <tr>\n",
       "      <th>2</th>\n",
       "      <td>松山區</td>\n",
       "      <td>中正里</td>\n",
       "      <td>1428593</td>\n",
       "      <td>1461211</td>\n",
       "      <td>1465259</td>\n",
       "      <td>1542955</td>\n",
       "      <td>1516509</td>\n",
       "    </tr>\n",
       "    <tr>\n",
       "      <th>3</th>\n",
       "      <td>松山區</td>\n",
       "      <td>中華里</td>\n",
       "      <td>713341</td>\n",
       "      <td>89</td>\n",
       "      <td>697682</td>\n",
       "      <td>719738</td>\n",
       "      <td>712531</td>\n",
       "    </tr>\n",
       "    <tr>\n",
       "      <th>4</th>\n",
       "      <td>松山區</td>\n",
       "      <td>三民里</td>\n",
       "      <td>896999</td>\n",
       "      <td>352</td>\n",
       "      <td>852848</td>\n",
       "      <td>866270</td>\n",
       "      <td>835908</td>\n",
       "    </tr>\n",
       "    <tr>\n",
       "      <th>...</th>\n",
       "      <td>...</td>\n",
       "      <td>...</td>\n",
       "      <td>...</td>\n",
       "      <td>...</td>\n",
       "      <td>...</td>\n",
       "      <td>...</td>\n",
       "      <td>...</td>\n",
       "    </tr>\n",
       "    <tr>\n",
       "      <th>451</th>\n",
       "      <td>北投區</td>\n",
       "      <td>中心里</td>\n",
       "      <td>1571371</td>\n",
       "      <td>1369921</td>\n",
       "      <td>1526192</td>\n",
       "      <td>1568142</td>\n",
       "      <td>1397138</td>\n",
       "    </tr>\n",
       "    <tr>\n",
       "      <th>452</th>\n",
       "      <td>北投區</td>\n",
       "      <td>文化里</td>\n",
       "      <td>772572</td>\n",
       "      <td>1047</td>\n",
       "      <td>720138</td>\n",
       "      <td>723098</td>\n",
       "      <td>670308</td>\n",
       "    </tr>\n",
       "    <tr>\n",
       "      <th>453</th>\n",
       "      <td>北投區</td>\n",
       "      <td>林泉里</td>\n",
       "      <td>926059</td>\n",
       "      <td>886590</td>\n",
       "      <td>857231</td>\n",
       "      <td>873492</td>\n",
       "      <td>770528</td>\n",
       "    </tr>\n",
       "    <tr>\n",
       "      <th>454</th>\n",
       "      <td>北投區</td>\n",
       "      <td>智仁里</td>\n",
       "      <td>1107881</td>\n",
       "      <td>675589</td>\n",
       "      <td>1038053</td>\n",
       "      <td>1065011</td>\n",
       "      <td>848322</td>\n",
       "    </tr>\n",
       "    <tr>\n",
       "      <th>455</th>\n",
       "      <td>北投區</td>\n",
       "      <td>中庸里</td>\n",
       "      <td>848560</td>\n",
       "      <td>840895</td>\n",
       "      <td>800590</td>\n",
       "      <td>817033</td>\n",
       "      <td>599948</td>\n",
       "    </tr>\n",
       "  </tbody>\n",
       "</table>\n",
       "<p>456 rows × 7 columns</p>\n",
       "</div>"
      ],
      "text/plain": [
       "    鄉鎮名稱 村里名稱 用電量_2011 用電量_2012 用電量_2013 用電量_2014 用電量_2015\n",
       "0    松山區  精忠里  1002883      126   987114  1022204  1008954\n",
       "1    松山區  民有里  2935636       --  2724746  2860800  2782233\n",
       "2    松山區  中正里  1428593  1461211  1465259  1542955  1516509\n",
       "3    松山區  中華里   713341       89   697682   719738   712531\n",
       "4    松山區  三民里   896999      352   852848   866270   835908\n",
       "..   ...  ...      ...      ...      ...      ...      ...\n",
       "451  北投區  中心里  1571371  1369921  1526192  1568142  1397138\n",
       "452  北投區  文化里   772572     1047   720138   723098   670308\n",
       "453  北投區  林泉里   926059   886590   857231   873492   770528\n",
       "454  北投區  智仁里  1107881   675589  1038053  1065011   848322\n",
       "455  北投區  中庸里   848560   840895   800590   817033   599948\n",
       "\n",
       "[456 rows x 7 columns]"
      ]
     },
     "execution_count": 7,
     "metadata": {},
     "output_type": "execute_result"
    }
   ],
   "source": [
    "df = pd.merge(df2011, df2012, left_on=['鄉鎮名稱', '村里名稱'], right_on=['鄉鎮名稱', '村里名稱'],how='outer')\n",
    "df = df[['鄉鎮名稱', '村里名稱', '用電量_2011', '用電量_2012']]\n",
    "df = pd.merge(df, df2013, left_on=['鄉鎮名稱', '村里名稱'], right_on=['鄉鎮名稱', '村里名稱'],how='outer')\n",
    "df = df[['鄉鎮名稱', '村里名稱', '用電量_2011', '用電量_2012','用電量_2013']]\n",
    "df = pd.merge(df, df2014, left_on=['鄉鎮名稱', '村里名稱'], right_on=['鄉鎮名稱', '村里名稱'],how='outer')\n",
    "df = pd.merge(df, df2015, left_on=['鄉鎮名稱', '村里名稱'], right_on=['鄉鎮名稱', '村里名稱'],how='outer')\n",
    "df = df[['鄉鎮名稱', '村里名稱', '用電量_2011', '用電量_2012', '用電量_2013', '用電量_2014', '用電量_2015']]\n",
    "\n",
    "df"
   ]
  },
  {
   "cell_type": "code",
   "execution_count": 8,
   "metadata": {},
   "outputs": [],
   "source": [
    "df.to_csv('total.csv')"
   ]
  },
  {
   "cell_type": "code",
   "execution_count": 21,
   "metadata": {},
   "outputs": [
    {
     "data": {
      "text/plain": [
       "Index(['鄉鎮名稱', '村里名稱', '用電量_2011', '用電量_2012', '用電量_2013', '用電量_2014'], dtype='object')"
      ]
     },
     "execution_count": 21,
     "metadata": {},
     "output_type": "execute_result"
    }
   ],
   "source": [
    "df.columns"
   ]
  }
 ],
 "metadata": {
  "kernelspec": {
   "display_name": "Python 3.9.7 ('base')",
   "language": "python",
   "name": "python3"
  },
  "language_info": {
   "codemirror_mode": {
    "name": "ipython",
    "version": 3
   },
   "file_extension": ".py",
   "mimetype": "text/x-python",
   "name": "python",
   "nbconvert_exporter": "python",
   "pygments_lexer": "ipython3",
   "version": "3.9.7"
  },
  "orig_nbformat": 4,
  "vscode": {
   "interpreter": {
    "hash": "6cb4a81ddedf46bc6fe721b2001f408e56f4870b9f022b7afb3580384a449d25"
   }
  }
 },
 "nbformat": 4,
 "nbformat_minor": 2
}
