{
 "cells": [
  {
   "cell_type": "code",
   "execution_count": 1,
   "metadata": {},
   "outputs": [],
   "source": [
    "import numpy as np\n",
    "import pandas as pd\n",
    "import os\n"
   ]
  },
  {
   "cell_type": "code",
   "execution_count": 2,
   "metadata": {},
   "outputs": [],
   "source": [
    "df2011 = pd.read_csv(\"2011-村里用電量.csv\")\n",
    "df2012 = pd.read_csv(\"2012-村里用電量.csv\")\n",
    "df2013 = pd.read_csv(\"2013-村里用電量.csv\")\n",
    "df2014 = pd.read_csv(\"2014-村里用電量.csv\")"
   ]
  },
  {
   "cell_type": "code",
   "execution_count": 3,
   "metadata": {},
   "outputs": [
    {
     "data": {
      "text/html": [
       "<div>\n",
       "<style scoped>\n",
       "    .dataframe tbody tr th:only-of-type {\n",
       "        vertical-align: middle;\n",
       "    }\n",
       "\n",
       "    .dataframe tbody tr th {\n",
       "        vertical-align: top;\n",
       "    }\n",
       "\n",
       "    .dataframe thead th {\n",
       "        text-align: right;\n",
       "    }\n",
       "</style>\n",
       "<table border=\"1\" class=\"dataframe\">\n",
       "  <thead>\n",
       "    <tr style=\"text-align: right;\">\n",
       "      <th></th>\n",
       "      <th>鄉鎮名稱</th>\n",
       "      <th>村里名稱</th>\n",
       "      <th>用電量_2011</th>\n",
       "      <th>用電量_2012</th>\n",
       "      <th>用電量_2013</th>\n",
       "      <th>用電量_2014</th>\n",
       "    </tr>\n",
       "  </thead>\n",
       "  <tbody>\n",
       "    <tr>\n",
       "      <th>0</th>\n",
       "      <td>松山區</td>\n",
       "      <td>復盛里</td>\n",
       "      <td>590</td>\n",
       "      <td>17699</td>\n",
       "      <td>8950</td>\n",
       "      <td>11176</td>\n",
       "    </tr>\n",
       "    <tr>\n",
       "      <th>1</th>\n",
       "      <td>松山區</td>\n",
       "      <td>復勢里</td>\n",
       "      <td>1323</td>\n",
       "      <td>1338</td>\n",
       "      <td>1435</td>\n",
       "      <td>1349</td>\n",
       "    </tr>\n",
       "    <tr>\n",
       "      <th>2</th>\n",
       "      <td>松山區</td>\n",
       "      <td>福成里</td>\n",
       "      <td>--</td>\n",
       "      <td>--</td>\n",
       "      <td>--</td>\n",
       "      <td>1349</td>\n",
       "    </tr>\n",
       "    <tr>\n",
       "      <th>3</th>\n",
       "      <td>松山區</td>\n",
       "      <td>新聚里</td>\n",
       "      <td>10</td>\n",
       "      <td>--</td>\n",
       "      <td>3978</td>\n",
       "      <td>--</td>\n",
       "    </tr>\n",
       "    <tr>\n",
       "      <th>4</th>\n",
       "      <td>松山區</td>\n",
       "      <td>美仁里</td>\n",
       "      <td>11</td>\n",
       "      <td>--</td>\n",
       "      <td>--</td>\n",
       "      <td>--</td>\n",
       "    </tr>\n",
       "    <tr>\n",
       "      <th>...</th>\n",
       "      <td>...</td>\n",
       "      <td>...</td>\n",
       "      <td>...</td>\n",
       "      <td>...</td>\n",
       "      <td>...</td>\n",
       "      <td>...</td>\n",
       "    </tr>\n",
       "    <tr>\n",
       "      <th>451</th>\n",
       "      <td>北投區</td>\n",
       "      <td>開明里</td>\n",
       "      <td>1957525</td>\n",
       "      <td>1851184</td>\n",
       "      <td>2098898</td>\n",
       "      <td>1734906</td>\n",
       "    </tr>\n",
       "    <tr>\n",
       "      <th>452</th>\n",
       "      <td>北投區</td>\n",
       "      <td>文化里</td>\n",
       "      <td>1123429</td>\n",
       "      <td>1532</td>\n",
       "      <td>1052605</td>\n",
       "      <td>921753</td>\n",
       "    </tr>\n",
       "    <tr>\n",
       "      <th>453</th>\n",
       "      <td>北投區</td>\n",
       "      <td>長安里</td>\n",
       "      <td>1939118</td>\n",
       "      <td>1111207</td>\n",
       "      <td>1984064</td>\n",
       "      <td>1645260</td>\n",
       "    </tr>\n",
       "    <tr>\n",
       "      <th>454</th>\n",
       "      <td>北投區</td>\n",
       "      <td>智仁里</td>\n",
       "      <td>1606980</td>\n",
       "      <td>954363</td>\n",
       "      <td>1581995</td>\n",
       "      <td>1175993</td>\n",
       "    </tr>\n",
       "    <tr>\n",
       "      <th>455</th>\n",
       "      <td>北投區</td>\n",
       "      <td>中庸里</td>\n",
       "      <td>1376804</td>\n",
       "      <td>1266570</td>\n",
       "      <td>1405213</td>\n",
       "      <td>888589</td>\n",
       "    </tr>\n",
       "  </tbody>\n",
       "</table>\n",
       "<p>456 rows × 6 columns</p>\n",
       "</div>"
      ],
      "text/plain": [
       "    鄉鎮名稱 村里名稱 用電量_2011 用電量_2012 用電量_2013 用電量_2014\n",
       "0    松山區  復盛里      590    17699     8950    11176\n",
       "1    松山區  復勢里     1323     1338     1435     1349\n",
       "2    松山區  福成里       --       --       --     1349\n",
       "3    松山區  新聚里       10       --     3978       --\n",
       "4    松山區  美仁里       11       --       --       --\n",
       "..   ...  ...      ...      ...      ...      ...\n",
       "451  北投區  開明里  1957525  1851184  2098898  1734906\n",
       "452  北投區  文化里  1123429     1532  1052605   921753\n",
       "453  北投區  長安里  1939118  1111207  1984064  1645260\n",
       "454  北投區  智仁里  1606980   954363  1581995  1175993\n",
       "455  北投區  中庸里  1376804  1266570  1405213   888589\n",
       "\n",
       "[456 rows x 6 columns]"
      ]
     },
     "execution_count": 3,
     "metadata": {},
     "output_type": "execute_result"
    }
   ],
   "source": [
    "df = pd.merge(df2011, df2012, left_on=['鄉鎮名稱', '村里名稱'], right_on=['鄉鎮名稱', '村里名稱'],how='outer')\n",
    "df = df[['鄉鎮名稱', '村里名稱', '用電量_2011', '用電量_2012']]\n",
    "df = pd.merge(df, df2013, left_on=['鄉鎮名稱', '村里名稱'], right_on=['鄉鎮名稱', '村里名稱'],how='outer')\n",
    "df = df[['鄉鎮名稱', '村里名稱', '用電量_2011', '用電量_2012','用電量_2013']]\n",
    "df = pd.merge(df, df2014, left_on=['鄉鎮名稱', '村里名稱'], right_on=['鄉鎮名稱', '村里名稱'],how='outer')\n",
    "df = df[['鄉鎮名稱', '村里名稱', '用電量_2011', '用電量_2012', '用電量_2013', '用電量_2014']]\n",
    "\n",
    "df"
   ]
  },
  {
   "cell_type": "code",
   "execution_count": 4,
   "metadata": {},
   "outputs": [],
   "source": [
    "df.to_csv('total.csv')"
   ]
  },
  {
   "cell_type": "code",
   "execution_count": 5,
   "metadata": {},
   "outputs": [
    {
     "data": {
      "text/plain": [
       "Index(['鄉鎮名稱', '村里名稱', '用電量_2011', '用電量_2012', '用電量_2013', '用電量_2014'], dtype='object')"
      ]
     },
     "execution_count": 5,
     "metadata": {},
     "output_type": "execute_result"
    }
   ],
   "source": [
    "df.columns"
   ]
  }
 ],
 "metadata": {
  "kernelspec": {
   "display_name": "Python 3.9.7 ('base')",
   "language": "python",
   "name": "python3"
  },
  "language_info": {
   "codemirror_mode": {
    "name": "ipython",
    "version": 3
   },
   "file_extension": ".py",
   "mimetype": "text/x-python",
   "name": "python",
   "nbconvert_exporter": "python",
   "pygments_lexer": "ipython3",
   "version": "3.9.7"
  },
  "orig_nbformat": 4,
  "vscode": {
   "interpreter": {
    "hash": "6cb4a81ddedf46bc6fe721b2001f408e56f4870b9f022b7afb3580384a449d25"
   }
  }
 },
 "nbformat": 4,
 "nbformat_minor": 2
}
