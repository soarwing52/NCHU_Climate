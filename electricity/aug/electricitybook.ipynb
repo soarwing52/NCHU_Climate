{
 "cells": [
  {
   "cell_type": "code",
   "execution_count": 1,
   "metadata": {},
   "outputs": [],
   "source": [
    "import numpy as np\n",
    "import pandas as pd\n",
    "import os\n"
   ]
  },
  {
   "cell_type": "code",
   "execution_count": 2,
   "metadata": {},
   "outputs": [],
   "source": [
    "df2011 = pd.read_csv(\"2011-村里用電量.csv\")\n",
    "df2012 = pd.read_csv(\"2012-村里用電量.csv\")\n",
    "df2013 = pd.read_csv(\"2013-村里用電量.csv\")\n",
    "df2014 = pd.read_csv(\"2014-村里用電量.csv\")"
   ]
  },
  {
   "cell_type": "code",
   "execution_count": 3,
   "metadata": {},
   "outputs": [
    {
     "data": {
      "text/html": [
       "<div>\n",
       "<style scoped>\n",
       "    .dataframe tbody tr th:only-of-type {\n",
       "        vertical-align: middle;\n",
       "    }\n",
       "\n",
       "    .dataframe tbody tr th {\n",
       "        vertical-align: top;\n",
       "    }\n",
       "\n",
       "    .dataframe thead th {\n",
       "        text-align: right;\n",
       "    }\n",
       "</style>\n",
       "<table border=\"1\" class=\"dataframe\">\n",
       "  <thead>\n",
       "    <tr style=\"text-align: right;\">\n",
       "      <th></th>\n",
       "      <th>鄉鎮名稱</th>\n",
       "      <th>村里名稱</th>\n",
       "      <th>用電量_2011</th>\n",
       "      <th>用電量_2012</th>\n",
       "      <th>用電量_2013</th>\n",
       "      <th>用電量_2014</th>\n",
       "    </tr>\n",
       "  </thead>\n",
       "  <tbody>\n",
       "    <tr>\n",
       "      <th>0</th>\n",
       "      <td>松山區</td>\n",
       "      <td>自強里</td>\n",
       "      <td>1463044</td>\n",
       "      <td>3491896</td>\n",
       "      <td>3723146</td>\n",
       "      <td>3581703</td>\n",
       "    </tr>\n",
       "    <tr>\n",
       "      <th>1</th>\n",
       "      <td>松山區</td>\n",
       "      <td>龍田里</td>\n",
       "      <td>1225510</td>\n",
       "      <td>2592077</td>\n",
       "      <td>2825239</td>\n",
       "      <td>2739252</td>\n",
       "    </tr>\n",
       "    <tr>\n",
       "      <th>2</th>\n",
       "      <td>松山區</td>\n",
       "      <td>復勢里</td>\n",
       "      <td>2858397</td>\n",
       "      <td>2828139</td>\n",
       "      <td>2997644</td>\n",
       "      <td>3031601</td>\n",
       "    </tr>\n",
       "    <tr>\n",
       "      <th>3</th>\n",
       "      <td>松山區</td>\n",
       "      <td>中華里</td>\n",
       "      <td>1602938</td>\n",
       "      <td>1557914</td>\n",
       "      <td>1730038</td>\n",
       "      <td>1739430</td>\n",
       "    </tr>\n",
       "    <tr>\n",
       "      <th>4</th>\n",
       "      <td>松山區</td>\n",
       "      <td>東勢里</td>\n",
       "      <td>1991162</td>\n",
       "      <td>1934795</td>\n",
       "      <td>2092437</td>\n",
       "      <td>2124598</td>\n",
       "    </tr>\n",
       "    <tr>\n",
       "      <th>...</th>\n",
       "      <td>...</td>\n",
       "      <td>...</td>\n",
       "      <td>...</td>\n",
       "      <td>...</td>\n",
       "      <td>...</td>\n",
       "      <td>...</td>\n",
       "    </tr>\n",
       "    <tr>\n",
       "      <th>451</th>\n",
       "      <td>北投區</td>\n",
       "      <td>八仙里</td>\n",
       "      <td>1981810</td>\n",
       "      <td>1915091</td>\n",
       "      <td>2381685</td>\n",
       "      <td>2015833</td>\n",
       "    </tr>\n",
       "    <tr>\n",
       "      <th>452</th>\n",
       "      <td>北投區</td>\n",
       "      <td>大同里</td>\n",
       "      <td>2256325</td>\n",
       "      <td>2126623</td>\n",
       "      <td>2270003</td>\n",
       "      <td>2086341</td>\n",
       "    </tr>\n",
       "    <tr>\n",
       "      <th>453</th>\n",
       "      <td>北投區</td>\n",
       "      <td>一德里</td>\n",
       "      <td>2520536</td>\n",
       "      <td>3232</td>\n",
       "      <td>2648871</td>\n",
       "      <td>2569633</td>\n",
       "    </tr>\n",
       "    <tr>\n",
       "      <th>454</th>\n",
       "      <td>北投區</td>\n",
       "      <td>中央里</td>\n",
       "      <td>3264807</td>\n",
       "      <td>3114267</td>\n",
       "      <td>3340573</td>\n",
       "      <td>4123849</td>\n",
       "    </tr>\n",
       "    <tr>\n",
       "      <th>455</th>\n",
       "      <td>北投區</td>\n",
       "      <td>桃源里</td>\n",
       "      <td>1856212</td>\n",
       "      <td>1495717</td>\n",
       "      <td>1942503</td>\n",
       "      <td>1646348</td>\n",
       "    </tr>\n",
       "  </tbody>\n",
       "</table>\n",
       "<p>456 rows × 6 columns</p>\n",
       "</div>"
      ],
      "text/plain": [
       "    鄉鎮名稱 村里名稱 用電量_2011 用電量_2012 用電量_2013 用電量_2014\n",
       "0    松山區  自強里  1463044  3491896  3723146  3581703\n",
       "1    松山區  龍田里  1225510  2592077  2825239  2739252\n",
       "2    松山區  復勢里  2858397  2828139  2997644  3031601\n",
       "3    松山區  中華里  1602938  1557914  1730038  1739430\n",
       "4    松山區  東勢里  1991162  1934795  2092437  2124598\n",
       "..   ...  ...      ...      ...      ...      ...\n",
       "451  北投區  八仙里  1981810  1915091  2381685  2015833\n",
       "452  北投區  大同里  2256325  2126623  2270003  2086341\n",
       "453  北投區  一德里  2520536     3232  2648871  2569633\n",
       "454  北投區  中央里  3264807  3114267  3340573  4123849\n",
       "455  北投區  桃源里  1856212  1495717  1942503  1646348\n",
       "\n",
       "[456 rows x 6 columns]"
      ]
     },
     "execution_count": 3,
     "metadata": {},
     "output_type": "execute_result"
    }
   ],
   "source": [
    "df = pd.merge(df2011, df2012, left_on=['鄉鎮名稱', '村里名稱'], right_on=['鄉鎮名稱', '村里名稱'],how='outer')\n",
    "df = df[['鄉鎮名稱', '村里名稱', '用電量_2011', '用電量_2012']]\n",
    "df = pd.merge(df, df2013, left_on=['鄉鎮名稱', '村里名稱'], right_on=['鄉鎮名稱', '村里名稱'],how='outer')\n",
    "df = df[['鄉鎮名稱', '村里名稱', '用電量_2011', '用電量_2012','用電量_2013']]\n",
    "df = pd.merge(df, df2014, left_on=['鄉鎮名稱', '村里名稱'], right_on=['鄉鎮名稱', '村里名稱'],how='outer')\n",
    "df = df[['鄉鎮名稱', '村里名稱', '用電量_2011', '用電量_2012', '用電量_2013', '用電量_2014']]\n",
    "\n",
    "df"
   ]
  },
  {
   "cell_type": "code",
   "execution_count": 4,
   "metadata": {},
   "outputs": [],
   "source": [
    "df.to_csv('total.csv')"
   ]
  },
  {
   "cell_type": "code",
   "execution_count": 5,
   "metadata": {},
   "outputs": [
    {
     "data": {
      "text/plain": [
       "Index(['鄉鎮名稱', '村里名稱', '用電量_2011', '用電量_2012', '用電量_2013', '用電量_2014'], dtype='object')"
      ]
     },
     "execution_count": 5,
     "metadata": {},
     "output_type": "execute_result"
    }
   ],
   "source": [
    "df.columns"
   ]
  }
 ],
 "metadata": {
  "kernelspec": {
   "display_name": "Python 3.9.12 ('base')",
   "language": "python",
   "name": "python3"
  },
  "language_info": {
   "codemirror_mode": {
    "name": "ipython",
    "version": 3
   },
   "file_extension": ".py",
   "mimetype": "text/x-python",
   "name": "python",
   "nbconvert_exporter": "python",
   "pygments_lexer": "ipython3",
   "version": "3.9.12"
  },
  "orig_nbformat": 4,
  "vscode": {
   "interpreter": {
    "hash": "a077222d77dfe082b8f1dd562ad70e458ac2ab76993a0b248ab0476e32e9e8dd"
   }
  }
 },
 "nbformat": 4,
 "nbformat_minor": 2
}
