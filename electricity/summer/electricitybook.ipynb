{
 "cells": [
  {
   "cell_type": "code",
   "execution_count": 1,
   "metadata": {},
   "outputs": [],
   "source": [
    "import numpy as np\n",
    "import pandas as pd\n",
    "import os\n"
   ]
  },
  {
   "cell_type": "code",
   "execution_count": 5,
   "metadata": {},
   "outputs": [],
   "source": [
    "df2011 = pd.read_csv(\"2011-村里用電量.csv\")\n",
    "df2012 = pd.read_csv(\"2012-村里用電量.csv\")\n",
    "df2013 = pd.read_csv(\"2013-村里用電量.csv\")\n",
    "df2014 = pd.read_csv(\"2014-村里用電量.csv\")"
   ]
  },
  {
   "cell_type": "code",
   "execution_count": 6,
   "metadata": {},
   "outputs": [
    {
     "data": {
      "text/html": [
       "<div>\n",
       "<style scoped>\n",
       "    .dataframe tbody tr th:only-of-type {\n",
       "        vertical-align: middle;\n",
       "    }\n",
       "\n",
       "    .dataframe tbody tr th {\n",
       "        vertical-align: top;\n",
       "    }\n",
       "\n",
       "    .dataframe thead th {\n",
       "        text-align: right;\n",
       "    }\n",
       "</style>\n",
       "<table border=\"1\" class=\"dataframe\">\n",
       "  <thead>\n",
       "    <tr style=\"text-align: right;\">\n",
       "      <th></th>\n",
       "      <th>鄉鎮名稱</th>\n",
       "      <th>村里名稱</th>\n",
       "      <th>用電量_2011</th>\n",
       "      <th>用電量_2012</th>\n",
       "      <th>用電量_2013</th>\n",
       "      <th>用電量_2014</th>\n",
       "    </tr>\n",
       "  </thead>\n",
       "  <tbody>\n",
       "    <tr>\n",
       "      <th>0</th>\n",
       "      <td>松山區</td>\n",
       "      <td>自強里</td>\n",
       "      <td>1002772</td>\n",
       "      <td>2164497</td>\n",
       "      <td>2242606</td>\n",
       "      <td>2154771</td>\n",
       "    </tr>\n",
       "    <tr>\n",
       "      <th>1</th>\n",
       "      <td>松山區</td>\n",
       "      <td>自強里</td>\n",
       "      <td>1002772</td>\n",
       "      <td>2164497</td>\n",
       "      <td>2242606</td>\n",
       "      <td>--</td>\n",
       "    </tr>\n",
       "    <tr>\n",
       "      <th>2</th>\n",
       "      <td>松山區</td>\n",
       "      <td>自強里</td>\n",
       "      <td>1002772</td>\n",
       "      <td>2164497</td>\n",
       "      <td>--</td>\n",
       "      <td>2154771</td>\n",
       "    </tr>\n",
       "    <tr>\n",
       "      <th>3</th>\n",
       "      <td>松山區</td>\n",
       "      <td>自強里</td>\n",
       "      <td>1002772</td>\n",
       "      <td>2164497</td>\n",
       "      <td>--</td>\n",
       "      <td>--</td>\n",
       "    </tr>\n",
       "    <tr>\n",
       "      <th>4</th>\n",
       "      <td>松山區</td>\n",
       "      <td>自強里</td>\n",
       "      <td>1002772</td>\n",
       "      <td>--</td>\n",
       "      <td>2242606</td>\n",
       "      <td>2154771</td>\n",
       "    </tr>\n",
       "    <tr>\n",
       "      <th>...</th>\n",
       "      <td>...</td>\n",
       "      <td>...</td>\n",
       "      <td>...</td>\n",
       "      <td>...</td>\n",
       "      <td>...</td>\n",
       "      <td>...</td>\n",
       "    </tr>\n",
       "    <tr>\n",
       "      <th>7291</th>\n",
       "      <td>北投區</td>\n",
       "      <td>立農里</td>\n",
       "      <td>--</td>\n",
       "      <td>2081981</td>\n",
       "      <td>--</td>\n",
       "      <td>--</td>\n",
       "    </tr>\n",
       "    <tr>\n",
       "      <th>7292</th>\n",
       "      <td>北投區</td>\n",
       "      <td>立農里</td>\n",
       "      <td>--</td>\n",
       "      <td>2382</td>\n",
       "      <td>2130634</td>\n",
       "      <td>1983747</td>\n",
       "    </tr>\n",
       "    <tr>\n",
       "      <th>7293</th>\n",
       "      <td>北投區</td>\n",
       "      <td>立農里</td>\n",
       "      <td>--</td>\n",
       "      <td>2382</td>\n",
       "      <td>2130634</td>\n",
       "      <td>--</td>\n",
       "    </tr>\n",
       "    <tr>\n",
       "      <th>7294</th>\n",
       "      <td>北投區</td>\n",
       "      <td>立農里</td>\n",
       "      <td>--</td>\n",
       "      <td>2382</td>\n",
       "      <td>--</td>\n",
       "      <td>1983747</td>\n",
       "    </tr>\n",
       "    <tr>\n",
       "      <th>7295</th>\n",
       "      <td>北投區</td>\n",
       "      <td>立農里</td>\n",
       "      <td>--</td>\n",
       "      <td>2382</td>\n",
       "      <td>--</td>\n",
       "      <td>--</td>\n",
       "    </tr>\n",
       "  </tbody>\n",
       "</table>\n",
       "<p>7296 rows × 6 columns</p>\n",
       "</div>"
      ],
      "text/plain": [
       "     鄉鎮名稱 村里名稱 用電量_2011 用電量_2012 用電量_2013 用電量_2014\n",
       "0     松山區  自強里  1002772  2164497  2242606  2154771\n",
       "1     松山區  自強里  1002772  2164497  2242606       --\n",
       "2     松山區  自強里  1002772  2164497       --  2154771\n",
       "3     松山區  自強里  1002772  2164497       --       --\n",
       "4     松山區  自強里  1002772       --  2242606  2154771\n",
       "...   ...  ...      ...      ...      ...      ...\n",
       "7291  北投區  立農里       --  2081981       --       --\n",
       "7292  北投區  立農里       --     2382  2130634  1983747\n",
       "7293  北投區  立農里       --     2382  2130634       --\n",
       "7294  北投區  立農里       --     2382       --  1983747\n",
       "7295  北投區  立農里       --     2382       --       --\n",
       "\n",
       "[7296 rows x 6 columns]"
      ]
     },
     "execution_count": 6,
     "metadata": {},
     "output_type": "execute_result"
    }
   ],
   "source": [
    "df = pd.merge(df2011, df2012, left_on=['鄉鎮名稱', '村里名稱'], right_on=['鄉鎮名稱', '村里名稱'],how='outer')\n",
    "df = df[['鄉鎮名稱', '村里名稱', '用電量_2011', '用電量_2012']]\n",
    "df = pd.merge(df, df2013, left_on=['鄉鎮名稱', '村里名稱'], right_on=['鄉鎮名稱', '村里名稱'],how='outer')\n",
    "df = df[['鄉鎮名稱', '村里名稱', '用電量_2011', '用電量_2012','用電量_2013']]\n",
    "df = pd.merge(df, df2014, left_on=['鄉鎮名稱', '村里名稱'], right_on=['鄉鎮名稱', '村里名稱'],how='outer')\n",
    "df = df[['鄉鎮名稱', '村里名稱', '用電量_2011', '用電量_2012', '用電量_2013', '用電量_2014']]\n",
    "\n",
    "df"
   ]
  },
  {
   "cell_type": "code",
   "execution_count": 7,
   "metadata": {},
   "outputs": [],
   "source": [
    "df.to_csv('total.csv')"
   ]
  },
  {
   "cell_type": "code",
   "execution_count": 21,
   "metadata": {},
   "outputs": [
    {
     "data": {
      "text/plain": [
       "Index(['鄉鎮名稱', '村里名稱', '用電量_2011', '用電量_2012', '用電量_2013', '用電量_2014'], dtype='object')"
      ]
     },
     "execution_count": 21,
     "metadata": {},
     "output_type": "execute_result"
    }
   ],
   "source": [
    "df.columns"
   ]
  }
 ],
 "metadata": {
  "kernelspec": {
   "display_name": "Python 3.9.12 ('base')",
   "language": "python",
   "name": "python3"
  },
  "language_info": {
   "codemirror_mode": {
    "name": "ipython",
    "version": 3
   },
   "file_extension": ".py",
   "mimetype": "text/x-python",
   "name": "python",
   "nbconvert_exporter": "python",
   "pygments_lexer": "ipython3",
   "version": "3.9.12"
  },
  "orig_nbformat": 4,
  "vscode": {
   "interpreter": {
    "hash": "a077222d77dfe082b8f1dd562ad70e458ac2ab76993a0b248ab0476e32e9e8dd"
   }
  }
 },
 "nbformat": 4,
 "nbformat_minor": 2
}
