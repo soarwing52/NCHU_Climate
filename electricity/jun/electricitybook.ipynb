{
 "cells": [
  {
   "cell_type": "code",
   "execution_count": 1,
   "metadata": {},
   "outputs": [],
   "source": [
    "import numpy as np\n",
    "import pandas as pd\n",
    "import os\n"
   ]
  },
  {
   "cell_type": "code",
   "execution_count": 2,
   "metadata": {},
   "outputs": [],
   "source": [
    "df2011 = pd.read_csv(\"2011-村里用電量.csv\")\n",
    "df2012 = pd.read_csv(\"2012-村里用電量.csv\")\n",
    "df2013 = pd.read_csv(\"2013-村里用電量.csv\")\n",
    "df2014 = pd.read_csv(\"2014-村里用電量.csv\")"
   ]
  },
  {
   "cell_type": "code",
   "execution_count": 3,
   "metadata": {},
   "outputs": [
    {
     "data": {
      "text/html": [
       "<div>\n",
       "<style scoped>\n",
       "    .dataframe tbody tr th:only-of-type {\n",
       "        vertical-align: middle;\n",
       "    }\n",
       "\n",
       "    .dataframe tbody tr th {\n",
       "        vertical-align: top;\n",
       "    }\n",
       "\n",
       "    .dataframe thead th {\n",
       "        text-align: right;\n",
       "    }\n",
       "</style>\n",
       "<table border=\"1\" class=\"dataframe\">\n",
       "  <thead>\n",
       "    <tr style=\"text-align: right;\">\n",
       "      <th></th>\n",
       "      <th>鄉鎮名稱</th>\n",
       "      <th>村里名稱</th>\n",
       "      <th>用電量_2011</th>\n",
       "      <th>用電量_2012</th>\n",
       "      <th>用電量_2013</th>\n",
       "      <th>用電量_2014</th>\n",
       "    </tr>\n",
       "  </thead>\n",
       "  <tbody>\n",
       "    <tr>\n",
       "      <th>0</th>\n",
       "      <td>松山區</td>\n",
       "      <td>自強里</td>\n",
       "      <td>1002772</td>\n",
       "      <td>2164497</td>\n",
       "      <td>2242606</td>\n",
       "      <td>2154771</td>\n",
       "    </tr>\n",
       "    <tr>\n",
       "      <th>1</th>\n",
       "      <td>松山區</td>\n",
       "      <td>龍田里</td>\n",
       "      <td>842499</td>\n",
       "      <td>1619568</td>\n",
       "      <td>1708845</td>\n",
       "      <td>1637790</td>\n",
       "    </tr>\n",
       "    <tr>\n",
       "      <th>2</th>\n",
       "      <td>松山區</td>\n",
       "      <td>松基里</td>\n",
       "      <td>1627865</td>\n",
       "      <td>--</td>\n",
       "      <td>1660305</td>\n",
       "      <td>1675869</td>\n",
       "    </tr>\n",
       "    <tr>\n",
       "      <th>3</th>\n",
       "      <td>松山區</td>\n",
       "      <td>吉祥里</td>\n",
       "      <td>2716615</td>\n",
       "      <td>2637449</td>\n",
       "      <td>2806203</td>\n",
       "      <td>2617048</td>\n",
       "    </tr>\n",
       "    <tr>\n",
       "      <th>4</th>\n",
       "      <td>松山區</td>\n",
       "      <td>新東里</td>\n",
       "      <td>1056623</td>\n",
       "      <td>255147</td>\n",
       "      <td>1018829</td>\n",
       "      <td>1023507</td>\n",
       "    </tr>\n",
       "    <tr>\n",
       "      <th>...</th>\n",
       "      <td>...</td>\n",
       "      <td>...</td>\n",
       "      <td>...</td>\n",
       "      <td>...</td>\n",
       "      <td>...</td>\n",
       "      <td>...</td>\n",
       "    </tr>\n",
       "    <tr>\n",
       "      <th>451</th>\n",
       "      <td>北投區</td>\n",
       "      <td>榮華里</td>\n",
       "      <td>2294335</td>\n",
       "      <td>2232361</td>\n",
       "      <td>2329462</td>\n",
       "      <td>2147931</td>\n",
       "    </tr>\n",
       "    <tr>\n",
       "      <th>452</th>\n",
       "      <td>北投區</td>\n",
       "      <td>八仙里</td>\n",
       "      <td>1364214</td>\n",
       "      <td>1266937</td>\n",
       "      <td>1518707</td>\n",
       "      <td>1309072</td>\n",
       "    </tr>\n",
       "    <tr>\n",
       "      <th>453</th>\n",
       "      <td>北投區</td>\n",
       "      <td>桃源里</td>\n",
       "      <td>1329839</td>\n",
       "      <td>1108046</td>\n",
       "      <td>1317668</td>\n",
       "      <td>1097735</td>\n",
       "    </tr>\n",
       "    <tr>\n",
       "      <th>454</th>\n",
       "      <td>北投區</td>\n",
       "      <td>振華里</td>\n",
       "      <td>2032019</td>\n",
       "      <td>1963834</td>\n",
       "      <td>1908253</td>\n",
       "      <td>1808323</td>\n",
       "    </tr>\n",
       "    <tr>\n",
       "      <th>455</th>\n",
       "      <td>北投區</td>\n",
       "      <td>立農里</td>\n",
       "      <td>2234897</td>\n",
       "      <td>2081981</td>\n",
       "      <td>2130634</td>\n",
       "      <td>1983747</td>\n",
       "    </tr>\n",
       "  </tbody>\n",
       "</table>\n",
       "<p>456 rows × 6 columns</p>\n",
       "</div>"
      ],
      "text/plain": [
       "    鄉鎮名稱 村里名稱 用電量_2011 用電量_2012 用電量_2013 用電量_2014\n",
       "0    松山區  自強里  1002772  2164497  2242606  2154771\n",
       "1    松山區  龍田里   842499  1619568  1708845  1637790\n",
       "2    松山區  松基里  1627865       --  1660305  1675869\n",
       "3    松山區  吉祥里  2716615  2637449  2806203  2617048\n",
       "4    松山區  新東里  1056623   255147  1018829  1023507\n",
       "..   ...  ...      ...      ...      ...      ...\n",
       "451  北投區  榮華里  2294335  2232361  2329462  2147931\n",
       "452  北投區  八仙里  1364214  1266937  1518707  1309072\n",
       "453  北投區  桃源里  1329839  1108046  1317668  1097735\n",
       "454  北投區  振華里  2032019  1963834  1908253  1808323\n",
       "455  北投區  立農里  2234897  2081981  2130634  1983747\n",
       "\n",
       "[456 rows x 6 columns]"
      ]
     },
     "execution_count": 3,
     "metadata": {},
     "output_type": "execute_result"
    }
   ],
   "source": [
    "df = pd.merge(df2011, df2012, left_on=['鄉鎮名稱', '村里名稱'], right_on=['鄉鎮名稱', '村里名稱'],how='outer')\n",
    "df = df[['鄉鎮名稱', '村里名稱', '用電量_2011', '用電量_2012']]\n",
    "df = pd.merge(df, df2013, left_on=['鄉鎮名稱', '村里名稱'], right_on=['鄉鎮名稱', '村里名稱'],how='outer')\n",
    "df = df[['鄉鎮名稱', '村里名稱', '用電量_2011', '用電量_2012','用電量_2013']]\n",
    "df = pd.merge(df, df2014, left_on=['鄉鎮名稱', '村里名稱'], right_on=['鄉鎮名稱', '村里名稱'],how='outer')\n",
    "df = df[['鄉鎮名稱', '村里名稱', '用電量_2011', '用電量_2012', '用電量_2013', '用電量_2014']]\n",
    "\n",
    "df"
   ]
  },
  {
   "cell_type": "code",
   "execution_count": 4,
   "metadata": {},
   "outputs": [],
   "source": [
    "df.to_csv('total.csv')"
   ]
  },
  {
   "cell_type": "code",
   "execution_count": 21,
   "metadata": {},
   "outputs": [
    {
     "data": {
      "text/plain": [
       "Index(['鄉鎮名稱', '村里名稱', '用電量_2011', '用電量_2012', '用電量_2013', '用電量_2014'], dtype='object')"
      ]
     },
     "execution_count": 21,
     "metadata": {},
     "output_type": "execute_result"
    }
   ],
   "source": [
    "df.columns"
   ]
  }
 ],
 "metadata": {
  "kernelspec": {
   "display_name": "Python 3.9.12 ('base')",
   "language": "python",
   "name": "python3"
  },
  "language_info": {
   "codemirror_mode": {
    "name": "ipython",
    "version": 3
   },
   "file_extension": ".py",
   "mimetype": "text/x-python",
   "name": "python",
   "nbconvert_exporter": "python",
   "pygments_lexer": "ipython3",
   "version": "3.9.12"
  },
  "orig_nbformat": 4,
  "vscode": {
   "interpreter": {
    "hash": "a077222d77dfe082b8f1dd562ad70e458ac2ab76993a0b248ab0476e32e9e8dd"
   }
  }
 },
 "nbformat": 4,
 "nbformat_minor": 2
}
