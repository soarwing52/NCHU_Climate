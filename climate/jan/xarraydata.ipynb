{
 "cells": [
  {
   "cell_type": "code",
   "execution_count": 3,
   "metadata": {},
   "outputs": [],
   "source": [
    "import xarray as xr\n",
    "\n",
    "year = 2015\n",
    "FN = f'{year}_Jan_Ctrl_TC_PET_mPET_WBGT.nc'\n",
    "ds = xr.open_dataset(FN)\n",
    "df = ds.to_dataframe()\n",
    "ds.close()"
   ]
  },
  {
   "cell_type": "code",
   "execution_count": 4,
   "metadata": {},
   "outputs": [],
   "source": [
    "df.to_csv(f\"{year}_electicity.csv\")"
   ]
  },
  {
   "cell_type": "code",
   "execution_count": 6,
   "metadata": {},
   "outputs": [],
   "source": [
    "for i in range(2011, 2016):\n",
    "    year = i\n",
    "    FN = f'{year}_Jan_Ctrl_TC_PET_mPET_WBGT.nc'\n",
    "    ds = xr.open_dataset(FN)\n",
    "    df = ds.to_dataframe()\n",
    "    ds.close()\n",
    "    df.to_csv(f\"{year}_climate.csv\")"
   ]
  }
 ],
 "metadata": {
  "kernelspec": {
   "display_name": "Python 3.9.7 ('base')",
   "language": "python",
   "name": "python3"
  },
  "language_info": {
   "codemirror_mode": {
    "name": "ipython",
    "version": 3
   },
   "file_extension": ".py",
   "mimetype": "text/x-python",
   "name": "python",
   "nbconvert_exporter": "python",
   "pygments_lexer": "ipython3",
   "version": "3.9.7"
  },
  "orig_nbformat": 4,
  "vscode": {
   "interpreter": {
    "hash": "6cb4a81ddedf46bc6fe721b2001f408e56f4870b9f022b7afb3580384a449d25"
   }
  }
 },
 "nbformat": 4,
 "nbformat_minor": 2
}
