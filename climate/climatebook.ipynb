{
 "cells": [
  {
   "cell_type": "code",
   "execution_count": 15,
   "metadata": {},
   "outputs": [],
   "source": [
    "import numpy as np\n",
    "import pandas as pd"
   ]
  },
  {
   "cell_type": "code",
   "execution_count": 24,
   "metadata": {},
   "outputs": [],
   "source": [
    "df2011 = pd.read_csv(\"2011_climate.csv\")\n",
    "df2012 = pd.read_csv(\"2012_climate.csv\")\n",
    "df2013 = pd.read_csv(\"2013_climate.csv\")\n",
    "df2014 = pd.read_csv(\"2014_climate.csv\")"
   ]
  },
  {
   "cell_type": "code",
   "execution_count": 31,
   "metadata": {},
   "outputs": [],
   "source": [
    "df = pd.DataFrame()"
   ]
  },
  {
   "cell_type": "code",
   "execution_count": 32,
   "metadata": {},
   "outputs": [],
   "source": [
    "dfyears = [df2011, df2012, df2013, df2014]\n",
    "i = 10\n",
    "\n",
    "for dfy in dfyears:\n",
    "    i += 1\n",
    "    for ind in dfy.index:\n",
    "        # print(df2011['Time'][ind], df2011['xlat'][ind], df2011['xlon'][ind], df2011['mPET_v'][ind])\n",
    "        df.at[f\"{dfy['xlat'][ind]}_{dfy['xlon'][ind]}\", \"lon\"] = dfy['xlon'][ind]\n",
    "        df.at[f\"{dfy['xlat'][ind]}_{dfy['xlon'][ind]}\", \"lat\"] = dfy['xlat'][ind]\n",
    "        df.at[f\"{dfy['xlat'][ind]}_{dfy['xlon'][ind]}\", f\"T_{i}_{dfy['Time'][ind]}\"] = dfy['mPET_v'][ind]"
   ]
  },
  {
   "cell_type": "code",
   "execution_count": 5,
   "metadata": {},
   "outputs": [
    {
     "data": {
      "text/plain": [
       "Index(['south_north', 'west_east', 'Time', 'xlat', 'xlon', 'Times', 'Ta2',\n",
       "       'RH2', 'VP2', 'WS_1', 'SW_down', 'time_hour', 'dayofyear', 'T_mrt',\n",
       "       'PET_v', 'mPET_v', 'WBGT'],\n",
       "      dtype='object')"
      ]
     },
     "execution_count": 5,
     "metadata": {},
     "output_type": "execute_result"
    }
   ],
   "source": [
    "df2011.columns"
   ]
  },
  {
   "cell_type": "code",
   "execution_count": 33,
   "metadata": {},
   "outputs": [],
   "source": [
    "df.to_csv('total.csv')"
   ]
  }
 ],
 "metadata": {
  "kernelspec": {
   "display_name": "Python 3.9.7 ('base')",
   "language": "python",
   "name": "python3"
  },
  "language_info": {
   "codemirror_mode": {
    "name": "ipython",
    "version": 3
   },
   "file_extension": ".py",
   "mimetype": "text/x-python",
   "name": "python",
   "nbconvert_exporter": "python",
   "pygments_lexer": "ipython3",
   "version": "3.9.7"
  },
  "orig_nbformat": 4,
  "vscode": {
   "interpreter": {
    "hash": "6cb4a81ddedf46bc6fe721b2001f408e56f4870b9f022b7afb3580384a449d25"
   }
  }
 },
 "nbformat": 4,
 "nbformat_minor": 2
}
