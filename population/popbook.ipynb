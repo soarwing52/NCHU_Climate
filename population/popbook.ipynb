{
 "cells": [
  {
   "cell_type": "code",
   "execution_count": 1,
   "metadata": {},
   "outputs": [],
   "source": [
    "import numpy as np\n",
    "import pandas as pd\n",
    "import os\n"
   ]
  },
  {
   "cell_type": "code",
   "execution_count": 2,
   "metadata": {},
   "outputs": [],
   "source": [
    "df2011 = pd.read_csv(\"2011.csv\")\n",
    "df2012 = pd.read_csv(\"2012.csv\")\n",
    "df2013 = pd.read_csv(\"2013.csv\")\n",
    "df2014 = pd.read_csv(\"2014.csv\")\n",
    "df2015 = pd.read_csv(\"2015.csv\")"
   ]
  },
  {
   "cell_type": "code",
   "execution_count": 3,
   "metadata": {},
   "outputs": [
    {
     "data": {
      "text/html": [
       "<div>\n",
       "<style scoped>\n",
       "    .dataframe tbody tr th:only-of-type {\n",
       "        vertical-align: middle;\n",
       "    }\n",
       "\n",
       "    .dataframe tbody tr th {\n",
       "        vertical-align: top;\n",
       "    }\n",
       "\n",
       "    .dataframe thead th {\n",
       "        text-align: right;\n",
       "    }\n",
       "</style>\n",
       "<table border=\"1\" class=\"dataframe\">\n",
       "  <thead>\n",
       "    <tr style=\"text-align: right;\">\n",
       "      <th></th>\n",
       "      <th>district</th>\n",
       "      <th>village</th>\n",
       "      <th>total_2011</th>\n",
       "      <th>total_2012</th>\n",
       "      <th>total_2013</th>\n",
       "      <th>total_2014</th>\n",
       "      <th>total_2015</th>\n",
       "    </tr>\n",
       "  </thead>\n",
       "  <tbody>\n",
       "    <tr>\n",
       "      <th>0</th>\n",
       "      <td>松山區</td>\n",
       "      <td>三民里</td>\n",
       "      <td>7118.0</td>\n",
       "      <td>7153.0</td>\n",
       "      <td>7132.0</td>\n",
       "      <td>7149.0</td>\n",
       "      <td>7149.0</td>\n",
       "    </tr>\n",
       "    <tr>\n",
       "      <th>1</th>\n",
       "      <td>松山區</td>\n",
       "      <td>中正里</td>\n",
       "      <td>10787.0</td>\n",
       "      <td>10833.0</td>\n",
       "      <td>10812.0</td>\n",
       "      <td>10877.0</td>\n",
       "      <td>10877.0</td>\n",
       "    </tr>\n",
       "    <tr>\n",
       "      <th>2</th>\n",
       "      <td>松山區</td>\n",
       "      <td>中崙里</td>\n",
       "      <td>4594.0</td>\n",
       "      <td>4586.0</td>\n",
       "      <td>4549.0</td>\n",
       "      <td>4563.0</td>\n",
       "      <td>4563.0</td>\n",
       "    </tr>\n",
       "    <tr>\n",
       "      <th>3</th>\n",
       "      <td>松山區</td>\n",
       "      <td>中華里</td>\n",
       "      <td>6891.0</td>\n",
       "      <td>6945.0</td>\n",
       "      <td>6919.0</td>\n",
       "      <td>6894.0</td>\n",
       "      <td>6894.0</td>\n",
       "    </tr>\n",
       "    <tr>\n",
       "      <th>4</th>\n",
       "      <td>松山區</td>\n",
       "      <td>介壽里</td>\n",
       "      <td>5059.0</td>\n",
       "      <td>5027.0</td>\n",
       "      <td>4925.0</td>\n",
       "      <td>4931.0</td>\n",
       "      <td>4931.0</td>\n",
       "    </tr>\n",
       "    <tr>\n",
       "      <th>...</th>\n",
       "      <td>...</td>\n",
       "      <td>...</td>\n",
       "      <td>...</td>\n",
       "      <td>...</td>\n",
       "      <td>...</td>\n",
       "      <td>...</td>\n",
       "      <td>...</td>\n",
       "    </tr>\n",
       "    <tr>\n",
       "      <th>451</th>\n",
       "      <td>北投區</td>\n",
       "      <td>榮華里</td>\n",
       "      <td>7950.0</td>\n",
       "      <td>7932.0</td>\n",
       "      <td>7931.0</td>\n",
       "      <td>7986.0</td>\n",
       "      <td>7986.0</td>\n",
       "    </tr>\n",
       "    <tr>\n",
       "      <th>452</th>\n",
       "      <td>北投區</td>\n",
       "      <td>福興里</td>\n",
       "      <td>7556.0</td>\n",
       "      <td>7577.0</td>\n",
       "      <td>7646.0</td>\n",
       "      <td>7628.0</td>\n",
       "      <td>7628.0</td>\n",
       "    </tr>\n",
       "    <tr>\n",
       "      <th>453</th>\n",
       "      <td>北投區</td>\n",
       "      <td>稻香里</td>\n",
       "      <td>5157.0</td>\n",
       "      <td>5208.0</td>\n",
       "      <td>5224.0</td>\n",
       "      <td>5294.0</td>\n",
       "      <td>5294.0</td>\n",
       "    </tr>\n",
       "    <tr>\n",
       "      <th>454</th>\n",
       "      <td>北投區</td>\n",
       "      <td>豐年里</td>\n",
       "      <td>4732.0</td>\n",
       "      <td>4883.0</td>\n",
       "      <td>4892.0</td>\n",
       "      <td>4938.0</td>\n",
       "      <td>4938.0</td>\n",
       "    </tr>\n",
       "    <tr>\n",
       "      <th>455</th>\n",
       "      <td>北投區</td>\n",
       "      <td>關渡里</td>\n",
       "      <td>11309.0</td>\n",
       "      <td>11435.0</td>\n",
       "      <td>11571.0</td>\n",
       "      <td>11823.0</td>\n",
       "      <td>11823.0</td>\n",
       "    </tr>\n",
       "  </tbody>\n",
       "</table>\n",
       "<p>456 rows × 7 columns</p>\n",
       "</div>"
      ],
      "text/plain": [
       "    district village  total_2011  total_2012  total_2013  total_2014  \\\n",
       "0        松山區     三民里      7118.0      7153.0      7132.0      7149.0   \n",
       "1        松山區     中正里     10787.0     10833.0     10812.0     10877.0   \n",
       "2        松山區     中崙里      4594.0      4586.0      4549.0      4563.0   \n",
       "3        松山區     中華里      6891.0      6945.0      6919.0      6894.0   \n",
       "4        松山區     介壽里      5059.0      5027.0      4925.0      4931.0   \n",
       "..       ...     ...         ...         ...         ...         ...   \n",
       "451      北投區     榮華里      7950.0      7932.0      7931.0      7986.0   \n",
       "452      北投區     福興里      7556.0      7577.0      7646.0      7628.0   \n",
       "453      北投區     稻香里      5157.0      5208.0      5224.0      5294.0   \n",
       "454      北投區     豐年里      4732.0      4883.0      4892.0      4938.0   \n",
       "455      北投區     關渡里     11309.0     11435.0     11571.0     11823.0   \n",
       "\n",
       "     total_2015  \n",
       "0        7149.0  \n",
       "1       10877.0  \n",
       "2        4563.0  \n",
       "3        6894.0  \n",
       "4        4931.0  \n",
       "..          ...  \n",
       "451      7986.0  \n",
       "452      7628.0  \n",
       "453      5294.0  \n",
       "454      4938.0  \n",
       "455     11823.0  \n",
       "\n",
       "[456 rows x 7 columns]"
      ]
     },
     "execution_count": 3,
     "metadata": {},
     "output_type": "execute_result"
    }
   ],
   "source": [
    "df = pd.merge(df2011, df2012, left_on=['行政區', '里別'], right_on=['district', 'village'],how='outer')\n",
    "df = pd.merge(df, df2013, left_on=['行政區', '里別'], right_on=['行政區', '里別'],how='outer')\n",
    "df = df[[\"district\", \"village\", 'total_2011', 'total_2012', 'total_2013']]\n",
    "df = pd.merge(df, df2014, left_on=['district', 'village'], right_on=['district', 'village'],how='outer')\n",
    "df = pd.merge(df, df2015, left_on=['district', 'village'], right_on=['district', 'village'],how='outer')\n",
    "df = df[[\"district\", \"village\", 'total_2011', 'total_2012', 'total_2013', 'total_2014', 'total_2015']]\n",
    "df"
   ]
  },
  {
   "cell_type": "code",
   "execution_count": 4,
   "metadata": {},
   "outputs": [],
   "source": [
    "for i in range(5):\n",
    "    year = 2011 + i\n",
    "    df.columns = df.columns.str.replace(f'total_{year}', f'population_{year}')"
   ]
  },
  {
   "cell_type": "code",
   "execution_count": 5,
   "metadata": {},
   "outputs": [],
   "source": [
    "df.to_csv('total.csv')"
   ]
  },
  {
   "cell_type": "code",
   "execution_count": 6,
   "metadata": {},
   "outputs": [
    {
     "data": {
      "text/plain": [
       "Index(['district', 'village', 'total_2014'], dtype='object')"
      ]
     },
     "execution_count": 6,
     "metadata": {},
     "output_type": "execute_result"
    }
   ],
   "source": [
    "df2014.columns"
   ]
  }
 ],
 "metadata": {
  "kernelspec": {
   "display_name": "Python 3.9.12 ('base')",
   "language": "python",
   "name": "python3"
  },
  "language_info": {
   "codemirror_mode": {
    "name": "ipython",
    "version": 3
   },
   "file_extension": ".py",
   "mimetype": "text/x-python",
   "name": "python",
   "nbconvert_exporter": "python",
   "pygments_lexer": "ipython3",
   "version": "3.9.12"
  },
  "orig_nbformat": 4,
  "vscode": {
   "interpreter": {
    "hash": "a077222d77dfe082b8f1dd562ad70e458ac2ab76993a0b248ab0476e32e9e8dd"
   }
  }
 },
 "nbformat": 4,
 "nbformat_minor": 2
}
