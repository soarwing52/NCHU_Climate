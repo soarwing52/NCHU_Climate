{
 "cells": [
  {
   "cell_type": "code",
   "execution_count": null,
   "metadata": {},
   "outputs": [],
   "source": [
    "import numpy as np\n",
    "import pandas as pd\n",
    "import os\n"
   ]
  },
  {
   "cell_type": "code",
   "execution_count": null,
   "metadata": {},
   "outputs": [],
   "source": [
    "df_electricity = pd.read_csv(\"../electricity/jan/total.csv\")\n",
    "df_population = pd.read_csv(\"../population/total.csv\")"
   ]
  },
  {
   "cell_type": "code",
   "execution_count": null,
   "metadata": {},
   "outputs": [],
   "source": [
    "df = pd.merge(df_electricity, df_population, left_on=['鄉鎮名稱', '村里名稱'], right_on=['district', 'village'],how='outer')\n",
    "df"
   ]
  },
  {
   "cell_type": "code",
   "execution_count": null,
   "metadata": {},
   "outputs": [],
   "source": [
    "df['用電量_2011'] = pd.to_numeric(df['用電量_2011'], errors='coerce')\n",
    "df['用電量_2012'] = pd.to_numeric(df['用電量_2012'], errors='coerce')\n",
    "df['用電量_2013'] = pd.to_numeric(df['用電量_2013'], errors='coerce')\n",
    "df['用電量_2014'] = pd.to_numeric(df['用電量_2014'], errors='coerce')"
   ]
  },
  {
   "cell_type": "code",
   "execution_count": null,
   "metadata": {},
   "outputs": [],
   "source": [
    "df['人均用電量_2011'] = df['用電量_2011'] / df['population_2011']\n",
    "df['人均用電量_2012'] = df['用電量_2012'] / df['population_2012']\n",
    "df['人均用電量_2013'] = df['用電量_2013'] / df['population_2013']\n",
    "df['人均用電量_2014'] = df['用電量_2014'] / df['population_2014']"
   ]
  },
  {
   "cell_type": "code",
   "execution_count": null,
   "metadata": {},
   "outputs": [],
   "source": [
    "df.drop('Unnamed: 0_x', inplace=True, axis=1)\n",
    "df.drop('Unnamed: 0_y', inplace=True, axis=1)\n",
    "df.drop('district', inplace=True, axis=1)\n",
    "df.drop('village', inplace=True, axis=1)\n"
   ]
  },
  {
   "cell_type": "code",
   "execution_count": null,
   "metadata": {},
   "outputs": [],
   "source": [
    "df.to_csv('avg_electricity_jan.csv')"
   ]
  }
 ],
 "metadata": {
  "kernelspec": {
   "display_name": "Python 3.9.7 ('base')",
   "language": "python",
   "name": "python3"
  },
  "language_info": {
   "codemirror_mode": {
    "name": "ipython",
    "version": 3
   },
   "file_extension": ".py",
   "mimetype": "text/x-python",
   "name": "python",
   "nbconvert_exporter": "python",
   "pygments_lexer": "ipython3",
   "version": "3.9.7"
  },
  "orig_nbformat": 4,
  "vscode": {
   "interpreter": {
    "hash": "6cb4a81ddedf46bc6fe721b2001f408e56f4870b9f022b7afb3580384a449d25"
   }
  }
 },
 "nbformat": 4,
 "nbformat_minor": 2
}
